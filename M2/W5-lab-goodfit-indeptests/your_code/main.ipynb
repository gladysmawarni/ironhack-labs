{
 "cells": [
  {
   "cell_type": "markdown",
   "metadata": {},
   "source": [
    "## Question 1\n",
    "The following table indicates the number of 6-point scores in an American rugby match in the 1979 season.\n",
    "\n",
    "![](table1.png)\n",
    "\n",
    "Based on these results, we create a Poisson distribution with the sample mean parameter  = 2.435. Is there any reason to believe that at a .05 level the number of scores is a Poisson variable?"
   ]
  },
  {
   "cell_type": "code",
   "execution_count": 1,
   "metadata": {},
   "outputs": [],
   "source": [
    "# libraries \n",
    "import numpy as np\n",
    "import scipy.stats as st\n",
    "import pandas as pd"
   ]
  },
  {
   "cell_type": "code",
   "execution_count": 2,
   "metadata": {},
   "outputs": [
    {
     "name": "stdout",
     "output_type": "stream",
     "text": [
      "6.491310681109792 0.48368890685373034\n"
     ]
    },
    {
     "data": {
      "text/plain": [
       "False"
      ]
     },
     "execution_count": 2,
     "metadata": {},
     "output_type": "execute_result"
    }
   ],
   "source": [
    "alpha = .05\n",
    "p = 2.435\n",
    "n = 448\n",
    "\n",
    "observed = np.array([35,99,104,110,62,25,10,3])\n",
    "\n",
    "poisson_dist = st.poisson(p)\n",
    "\n",
    "poisson_pmf = np.array([poisson_dist.pmf(i) for i in range(7)])\n",
    "with_tail = np.append(poisson_pmf, poisson_dist.sf(6))\n",
    "\n",
    "expected = with_tail * n\n",
    "\n",
    "\n",
    "stat, pval = st.chisquare(observed, f_exp=expected)\n",
    "\n",
    "print(stat, pval)\n",
    "pval < alpha"
   ]
  },
  {
   "cell_type": "code",
   "execution_count": 2,
   "metadata": {},
   "outputs": [
    {
     "data": {
      "text/plain": [
       "'If p-value is not smaller than alpha, we cannot reject the null hypothesis. We cannot reject that the model follows a poisson distribution'"
      ]
     },
     "execution_count": 2,
     "metadata": {},
     "output_type": "execute_result"
    }
   ],
   "source": [
    "\"\"\"If p-value is not smaller than alpha, we cannot reject the null hypothesis. We cannot reject that the model follows a poisson distribution\"\"\""
   ]
  },
  {
   "cell_type": "markdown",
   "metadata": {},
   "source": [
    "## BONUS/OPTIONAL - Question 2\n",
    "Let's analyze a discrete distribution. To analyze the number of defective items in a factory in the city of Medellín, we took a random sample of n = 60 articles and observed the number of defectives in the following table:\n",
    "\n",
    "![](table2.png)\n",
    "\n",
    "A poissón distribution was proposed since it is defined for x = 0,1,2,3, .... using the following model:\n",
    "\n",
    "![](image1.png)\n",
    "\n",
    "For some extra insights check the following link: https://online.stat.psu.edu/stat504/node/63/ \n",
    "\n",
    "Does the distribution of defective items follow this distribution?"
   ]
  },
  {
   "cell_type": "code",
   "execution_count": 22,
   "metadata": {},
   "outputs": [
    {
     "name": "stdout",
     "output_type": "stream",
     "text": [
      "stat 34.32169618960071\n",
      "p_value 6.401393042020205e-07\n",
      "Reject the null hypothesis\n"
     ]
    },
    {
     "data": {
      "text/plain": [
       "array([22.8209254 , 22.06022788, 10.66244348,  3.43567623,  1.02072701])"
      ]
     },
     "execution_count": 22,
     "metadata": {},
     "output_type": "execute_result"
    }
   ],
   "source": [
    "n = 60\n",
    "\n",
    "# H0: distribution of observed values follows poisson(mu)\n",
    "# H1: distribution of observed values does not follow poisson(mu)\n",
    "\n",
    "mu = np.array(sum([(32*0), (15*1), (0*2), (9*3), (4*4)]))/n\n",
    "poisson_dist = st.poisson(mu)\n",
    "\n",
    "poisson_pmfs = np.array([poisson_dist.pmf(i) for i in range(0,4)])\n",
    "total_pmfs = np.append(poisson_pmfs, poisson_dist.sf(3))\n",
    "\n",
    "# 2. Significance level\n",
    "alpha = 0.05\n",
    "\n",
    "# 3. Sample\n",
    "O = np.array([32, 15, 0, 9, 4])\n",
    "E = total_pmfs *n\n",
    "\n",
    "\n",
    "# 4. Compute the statistics and p-value\n",
    "stat, p_value = st.chisquare(O, f_exp=E)\n",
    "print('stat', stat)\n",
    "print('p_value', p_value)\n",
    "\n",
    "# Decision\n",
    "if p_value < alpha:\n",
    "    print('Reject the null hypothesis')\n",
    "else:\n",
    "    print('Do not reject the null hypothesis')\n",
    "\n",
    "E # expected values"
   ]
  },
  {
   "cell_type": "code",
   "execution_count": 1,
   "metadata": {},
   "outputs": [
    {
     "data": {
      "text/plain": [
       "' as the p-value is lower than our alpha, we can reject the null hypothesis that the defective items follow poisson'"
      ]
     },
     "execution_count": 1,
     "metadata": {},
     "output_type": "execute_result"
    }
   ],
   "source": [
    "'''as the p-value is lower than our alpha, we can reject the null hypothesis that the defective items follow poisson'''"
   ]
  },
  {
   "cell_type": "markdown",
   "metadata": {},
   "source": [
    "## Question 3\n",
    "A quality control engineer takes a sample of 10 tires that come out of an assembly line, and would like to verify on the basis of the data that follows, if the number of tires with defects observed over 200 days, if it is true that 5% of all tires have defects (that is, if the sample comes from a binomial population with n = 10 and p = 0.05). \n",
    "\n",
    "![](table3.png)\n"
   ]
  },
  {
   "cell_type": "code",
   "execution_count": 3,
   "metadata": {},
   "outputs": [
    {
     "name": "stdout",
     "output_type": "stream",
     "text": [
      "8.30617951954277 0.015715783395951168\n"
     ]
    },
    {
     "data": {
      "text/plain": [
       "True"
      ]
     },
     "execution_count": 3,
     "metadata": {},
     "output_type": "execute_result"
    }
   ],
   "source": [
    "# H0: distribution ~ binom(n=10, p=0.05)\n",
    "# H1: distribution ~! binom(n=10, p=0.05)\n",
    "\n",
    "alpha = .05\n",
    "\n",
    "p = 0.05\n",
    "n = 10\n",
    "binom = st.binom(n,p)\n",
    "\n",
    "binom_pmf = np.array([binom.pmf(i) for i in range(2)])\n",
    "with_tail = np.append(binom_pmf, binom.sf(1))\n",
    "\n",
    "O = np.array([138,53,9])\n",
    "E = with_tail * 200\n",
    "\n",
    "stat, pval = st.chisquare(O, f_exp=E)\n",
    "\n",
    "print(stat,pval)\n",
    "pval < alpha"
   ]
  },
  {
   "cell_type": "code",
   "execution_count": 14,
   "metadata": {},
   "outputs": [
    {
     "data": {
      "text/plain": [
       "\" with an alpha of 0.05 we can't reject the null hypotesis. So it follows a binomial distribution \""
      ]
     },
     "execution_count": 14,
     "metadata": {},
     "output_type": "execute_result"
    }
   ],
   "source": [
    "\"\"\" with an alpha of 0.05 we can't reject the null hypotesis. So it follows a binomial distribution \"\"\""
   ]
  },
  {
   "cell_type": "markdown",
   "metadata": {},
   "source": [
    "## Question 4\n",
    "A researcher gathers information about the patterns of Physical Activity of children in the fifth grade of primary school of a public school. He defines three categories of physical activity (Low, Medium, High). He also inquires about the regular consumption of sugary drinks at school, and defines two categories (Yes = consumed, No = not consumed). We would like to evaluate if there is an association between patterns of physical activity and the consumption of sugary drinks for the children of this school, at a level of 5% significance. The results are in the following table: \n",
    "\n",
    "![](table4.png)"
   ]
  },
  {
   "cell_type": "code",
   "execution_count": 4,
   "metadata": {},
   "outputs": [
    {
     "name": "stdout",
     "output_type": "stream",
     "text": [
      "10.712198008709638 0.004719280137040844\n"
     ]
    },
    {
     "data": {
      "text/plain": [
       "True"
      ]
     },
     "execution_count": 4,
     "metadata": {},
     "output_type": "execute_result"
    }
   ],
   "source": [
    "# significance\n",
    "alpha = .05\n",
    "# sample\n",
    "table = np.array([[32,12], [14,22], [6,9]])\n",
    "\n",
    "stat, pval, dof, expected = st.chi2_contingency(table)\n",
    "\n",
    "print(stat,pval)\n",
    "pval < alpha"
   ]
  },
  {
   "cell_type": "code",
   "execution_count": 3,
   "metadata": {},
   "outputs": [
    {
     "data": {
      "text/plain": [
       "' Since the p-value is lower that 0.05 we can reject the null hypotesis. So the sugger drinks arent dependent on the Phisical activity and vice-versa. '"
      ]
     },
     "execution_count": 3,
     "metadata": {},
     "output_type": "execute_result"
    }
   ],
   "source": [
    "\"\"\" Since the p-value is lower that 0.05 we can reject the null hypotesis. So the sugger drinks arent dependent on the Phisical activity and vice-versa. \"\"\""
   ]
  },
  {
   "cell_type": "code",
   "execution_count": null,
   "metadata": {},
   "outputs": [],
   "source": []
  }
 ],
 "metadata": {
  "kernelspec": {
   "display_name": "Python 3",
   "language": "python",
   "name": "python3"
  },
  "language_info": {
   "codemirror_mode": {
    "name": "ipython",
    "version": 3
   },
   "file_extension": ".py",
   "mimetype": "text/x-python",
   "name": "python",
   "nbconvert_exporter": "python",
   "pygments_lexer": "ipython3",
   "version": "3.9.7"
  }
 },
 "nbformat": 4,
 "nbformat_minor": 2
}
