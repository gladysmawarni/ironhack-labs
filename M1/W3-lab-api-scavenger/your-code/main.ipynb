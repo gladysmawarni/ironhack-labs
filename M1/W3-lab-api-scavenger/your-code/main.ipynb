{
 "cells": [
  {
   "cell_type": "markdown",
   "metadata": {},
   "source": [
    " # Challenge 1 - fork languages\n"
   ]
  },
  {
   "cell_type": "code",
   "execution_count": 4,
   "metadata": {},
   "outputs": [],
   "source": [
    "import pandas as pd\n",
    "import requests\n",
    "import getpass\n",
    "from requests.auth import HTTPBasicAuth"
   ]
  },
  {
   "cell_type": "code",
   "execution_count": 5,
   "metadata": {},
   "outputs": [
    {
     "data": {
      "text/plain": [
       "200"
      ]
     },
     "execution_count": 5,
     "metadata": {},
     "output_type": "execute_result"
    }
   ],
   "source": [
    "response = requests.get(\"https://api.github.com/repos/ironhack-datalabs/bcn-feb-2019/forks\", auth= HTTPBasicAuth('gladysmawarni', getpass.getpass()))\n",
    "response.status_code"
   ]
  },
  {
   "cell_type": "code",
   "execution_count": 6,
   "metadata": {},
   "outputs": [],
   "source": [
    "json_file = response.json()"
   ]
  },
  {
   "cell_type": "code",
   "execution_count": 7,
   "metadata": {},
   "outputs": [
    {
     "data": {
      "text/plain": [
       "[None, 'Jupyter Notebook']"
      ]
     },
     "execution_count": 7,
     "metadata": {},
     "output_type": "execute_result"
    }
   ],
   "source": [
    "# loop the json file to get the language\n",
    "languages = []  #create empty list to append all languages\n",
    "\n",
    "for fork in json_file:         #iterate throw forks information and get the language atribute\n",
    "    languages.append(fork['language'])\n",
    "\n",
    "list(set(languages))"
   ]
  },
  {
   "cell_type": "markdown",
   "metadata": {},
   "source": [
    "# Challenge 2 - count commits"
   ]
  },
  {
   "cell_type": "code",
   "execution_count": 17,
   "metadata": {},
   "outputs": [],
   "source": [
    "url = 'https://api.github.com/repos/ta-data-lis/lab-mysql-first-queries'\n",
    "response = requests.get(url)\n",
    "commits = pd.json_normalize(response.json())"
   ]
  },
  {
   "cell_type": "code",
   "execution_count": 18,
   "metadata": {},
   "outputs": [
    {
     "data": {
      "text/plain": [
       "Index(['id', 'node_id', 'name', 'full_name', 'private', 'html_url',\n",
       "       'description', 'fork', 'url', 'forks_url', 'keys_url',\n",
       "       'collaborators_url', 'teams_url', 'hooks_url', 'issue_events_url',\n",
       "       'events_url', 'assignees_url', 'branches_url', 'tags_url', 'blobs_url',\n",
       "       'git_tags_url', 'git_refs_url', 'trees_url', 'statuses_url',\n",
       "       'languages_url', 'stargazers_url', 'contributors_url',\n",
       "       'subscribers_url', 'subscription_url', 'commits_url', 'git_commits_url',\n",
       "       'comments_url', 'issue_comment_url', 'contents_url', 'compare_url',\n",
       "       'merges_url', 'archive_url', 'downloads_url', 'issues_url', 'pulls_url',\n",
       "       'milestones_url', 'notifications_url', 'labels_url', 'releases_url',\n",
       "       'deployments_url', 'created_at', 'updated_at', 'pushed_at', 'git_url',\n",
       "       'ssh_url', 'clone_url', 'svn_url', 'homepage', 'size',\n",
       "       'stargazers_count', 'watchers_count', 'language', 'has_issues',\n",
       "       'has_projects', 'has_downloads', 'has_wiki', 'has_pages', 'forks_count',\n",
       "       'mirror_url', 'archived', 'disabled', 'open_issues_count', 'license',\n",
       "       'allow_forking', 'is_template', 'topics', 'visibility', 'forks',\n",
       "       'open_issues', 'watchers', 'default_branch', 'temp_clone_token',\n",
       "       'network_count', 'subscribers_count', 'owner.login', 'owner.id',\n",
       "       'owner.node_id', 'owner.avatar_url', 'owner.gravatar_id', 'owner.url',\n",
       "       'owner.html_url', 'owner.followers_url', 'owner.following_url',\n",
       "       'owner.gists_url', 'owner.starred_url', 'owner.subscriptions_url',\n",
       "       'owner.organizations_url', 'owner.repos_url', 'owner.events_url',\n",
       "       'owner.received_events_url', 'owner.type', 'owner.site_admin'],\n",
       "      dtype='object')"
      ]
     },
     "execution_count": 18,
     "metadata": {},
     "output_type": "execute_result"
    }
   ],
   "source": [
    "commits.columns"
   ]
  },
  {
   "cell_type": "code",
   "execution_count": 20,
   "metadata": {},
   "outputs": [
    {
     "name": "stdout",
     "output_type": "stream",
     "text": [
      "1\n",
      "0    https://api.github.com/repos/ta-data-lis/lab-m...\n",
      "Name: commits_url, dtype: object\n"
     ]
    }
   ],
   "source": [
    "# count commits\n",
    "# not a good url to do it with the date, as it will return 0 \n",
    "print(commits['commits_url'].count())\n",
    "print(commits['commits_url'])"
   ]
  },
  {
   "cell_type": "code",
   "execution_count": 14,
   "metadata": {},
   "outputs": [],
   "source": [
    "# using another url\n",
    "url = 'https://api.github.com/repos/gladysmawarni/lab-numpy/commits'\n",
    "\n",
    "inputs = {\n",
    "    'since' : \"2020-06-29\"\n",
    "}"
   ]
  },
  {
   "cell_type": "code",
   "execution_count": 15,
   "metadata": {},
   "outputs": [
    {
     "data": {
      "text/plain": [
       "<Response [200]>"
      ]
     },
     "execution_count": 15,
     "metadata": {},
     "output_type": "execute_result"
    }
   ],
   "source": [
    "response = requests.get(url, inputs)\n",
    "response"
   ]
  },
  {
   "cell_type": "code",
   "execution_count": 16,
   "metadata": {},
   "outputs": [
    {
     "data": {
      "text/html": [
       "<div>\n",
       "<style scoped>\n",
       "    .dataframe tbody tr th:only-of-type {\n",
       "        vertical-align: middle;\n",
       "    }\n",
       "\n",
       "    .dataframe tbody tr th {\n",
       "        vertical-align: top;\n",
       "    }\n",
       "\n",
       "    .dataframe thead th {\n",
       "        text-align: right;\n",
       "    }\n",
       "</style>\n",
       "<table border=\"1\" class=\"dataframe\">\n",
       "  <thead>\n",
       "    <tr style=\"text-align: right;\">\n",
       "      <th></th>\n",
       "      <th>sha</th>\n",
       "      <th>node_id</th>\n",
       "      <th>url</th>\n",
       "      <th>html_url</th>\n",
       "      <th>comments_url</th>\n",
       "      <th>parents</th>\n",
       "      <th>commit.author.name</th>\n",
       "      <th>commit.author.email</th>\n",
       "      <th>commit.author.date</th>\n",
       "      <th>commit.committer.name</th>\n",
       "      <th>...</th>\n",
       "      <th>committer.following_url</th>\n",
       "      <th>committer.gists_url</th>\n",
       "      <th>committer.starred_url</th>\n",
       "      <th>committer.subscriptions_url</th>\n",
       "      <th>committer.organizations_url</th>\n",
       "      <th>committer.repos_url</th>\n",
       "      <th>committer.events_url</th>\n",
       "      <th>committer.received_events_url</th>\n",
       "      <th>committer.type</th>\n",
       "      <th>committer.site_admin</th>\n",
       "    </tr>\n",
       "  </thead>\n",
       "  <tbody>\n",
       "    <tr>\n",
       "      <th>0</th>\n",
       "      <td>2eb121efc52b79b2cf9028778c3a63d458b83d0e</td>\n",
       "      <td>C_kwDOGRDmx9oAKDJlYjEyMWVmYzUyYjc5YjJjZjkwMjg3...</td>\n",
       "      <td>https://api.github.com/repos/gladysmawarni/lab...</td>\n",
       "      <td>https://github.com/gladysmawarni/lab-numpy/com...</td>\n",
       "      <td>https://api.github.com/repos/gladysmawarni/lab...</td>\n",
       "      <td>[{'sha': '32182a5ff52efc5db9f6fd880d1dfaa342ce...</td>\n",
       "      <td>Gladys Mawarni</td>\n",
       "      <td>gladysmawarni@gmail.com</td>\n",
       "      <td>2021-10-25T12:48:04Z</td>\n",
       "      <td>Gladys Mawarni</td>\n",
       "      <td>...</td>\n",
       "      <td>https://api.github.com/users/gladysmawarni/fol...</td>\n",
       "      <td>https://api.github.com/users/gladysmawarni/gis...</td>\n",
       "      <td>https://api.github.com/users/gladysmawarni/sta...</td>\n",
       "      <td>https://api.github.com/users/gladysmawarni/sub...</td>\n",
       "      <td>https://api.github.com/users/gladysmawarni/orgs</td>\n",
       "      <td>https://api.github.com/users/gladysmawarni/repos</td>\n",
       "      <td>https://api.github.com/users/gladysmawarni/eve...</td>\n",
       "      <td>https://api.github.com/users/gladysmawarni/rec...</td>\n",
       "      <td>User</td>\n",
       "      <td>False</td>\n",
       "    </tr>\n",
       "  </tbody>\n",
       "</table>\n",
       "<p>1 rows × 57 columns</p>\n",
       "</div>"
      ],
      "text/plain": [
       "                                        sha  \\\n",
       "0  2eb121efc52b79b2cf9028778c3a63d458b83d0e   \n",
       "\n",
       "                                             node_id  \\\n",
       "0  C_kwDOGRDmx9oAKDJlYjEyMWVmYzUyYjc5YjJjZjkwMjg3...   \n",
       "\n",
       "                                                 url  \\\n",
       "0  https://api.github.com/repos/gladysmawarni/lab...   \n",
       "\n",
       "                                            html_url  \\\n",
       "0  https://github.com/gladysmawarni/lab-numpy/com...   \n",
       "\n",
       "                                        comments_url  \\\n",
       "0  https://api.github.com/repos/gladysmawarni/lab...   \n",
       "\n",
       "                                             parents commit.author.name  \\\n",
       "0  [{'sha': '32182a5ff52efc5db9f6fd880d1dfaa342ce...     Gladys Mawarni   \n",
       "\n",
       "       commit.author.email    commit.author.date commit.committer.name  ...  \\\n",
       "0  gladysmawarni@gmail.com  2021-10-25T12:48:04Z        Gladys Mawarni  ...   \n",
       "\n",
       "                             committer.following_url  \\\n",
       "0  https://api.github.com/users/gladysmawarni/fol...   \n",
       "\n",
       "                                 committer.gists_url  \\\n",
       "0  https://api.github.com/users/gladysmawarni/gis...   \n",
       "\n",
       "                               committer.starred_url  \\\n",
       "0  https://api.github.com/users/gladysmawarni/sta...   \n",
       "\n",
       "                         committer.subscriptions_url  \\\n",
       "0  https://api.github.com/users/gladysmawarni/sub...   \n",
       "\n",
       "                       committer.organizations_url  \\\n",
       "0  https://api.github.com/users/gladysmawarni/orgs   \n",
       "\n",
       "                                committer.repos_url  \\\n",
       "0  https://api.github.com/users/gladysmawarni/repos   \n",
       "\n",
       "                                committer.events_url  \\\n",
       "0  https://api.github.com/users/gladysmawarni/eve...   \n",
       "\n",
       "                       committer.received_events_url committer.type  \\\n",
       "0  https://api.github.com/users/gladysmawarni/rec...           User   \n",
       "\n",
       "  committer.site_admin  \n",
       "0                False  \n",
       "\n",
       "[1 rows x 57 columns]"
      ]
     },
     "execution_count": 16,
     "metadata": {},
     "output_type": "execute_result"
    }
   ],
   "source": [
    "response = pd.json_normalize(response.json())\n",
    "response"
   ]
  },
  {
   "cell_type": "code",
   "execution_count": null,
   "metadata": {},
   "outputs": [],
   "source": []
  }
 ],
 "metadata": {
  "interpreter": {
   "hash": "fd29832eff5d8b6d8e2de460dbfc6e2d5e3418225606d70534be3c12ac1970a5"
  },
  "kernelspec": {
   "display_name": "Python 3.9.7 64-bit",
   "language": "python",
   "name": "python3"
  },
  "language_info": {
   "codemirror_mode": {
    "name": "ipython",
    "version": 3
   },
   "file_extension": ".py",
   "mimetype": "text/x-python",
   "name": "python",
   "nbconvert_exporter": "python",
   "pygments_lexer": "ipython3",
   "version": "3.9.7"
  },
  "orig_nbformat": 4
 },
 "nbformat": 4,
 "nbformat_minor": 2
}
