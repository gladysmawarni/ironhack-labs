{
 "cells": [
  {
   "cell_type": "markdown",
   "metadata": {},
   "source": [
    "# Intrduction to NumPy\n",
    "\n",
    "\n",
    "#### 1. Import NumPy under the name np."
   ]
  },
  {
   "cell_type": "code",
   "execution_count": 27,
   "metadata": {},
   "outputs": [],
   "source": [
    "# import library\n",
    "import numpy as np"
   ]
  },
  {
   "cell_type": "markdown",
   "metadata": {},
   "source": [
    "#### 2. Print your NumPy version."
   ]
  },
  {
   "cell_type": "code",
   "execution_count": 28,
   "metadata": {},
   "outputs": [
    {
     "data": {
      "text/plain": [
       "'1.22.2'"
      ]
     },
     "execution_count": 28,
     "metadata": {},
     "output_type": "execute_result"
    }
   ],
   "source": [
    "np.version.version"
   ]
  },
  {
   "cell_type": "markdown",
   "metadata": {},
   "source": [
    "#### 3. Generate a 2x3x5 3-dimensional array with random values. Assign the array to variable *a*.\n",
    "**Challenge**: there are at least three easy ways that use numpy to generate random arrays. How many ways can you find?"
   ]
  },
  {
   "cell_type": "code",
   "execution_count": 29,
   "metadata": {},
   "outputs": [
    {
     "data": {
      "text/plain": [
       "array([[[0.27154121, 0.48740489, 0.29178834, 0.08973466, 0.31777458],\n",
       "        [0.86051572, 0.71658632, 0.48224967, 0.41909602, 0.87562988],\n",
       "        [0.1923264 , 0.25071702, 0.31895819, 0.26667555, 0.32056258]],\n",
       "\n",
       "       [[0.10707206, 0.35715371, 0.47940168, 0.08312859, 0.58915575],\n",
       "        [0.26467975, 0.052318  , 0.93198004, 0.92207849, 0.69830315],\n",
       "        [0.77387413, 0.4869997 , 0.19838965, 0.29087604, 0.63083204]]])"
      ]
     },
     "execution_count": 29,
     "metadata": {},
     "output_type": "execute_result"
    }
   ],
   "source": [
    "a = np.random.random(size = (2,3,5))\n",
    "a"
   ]
  },
  {
   "cell_type": "code",
   "execution_count": 30,
   "metadata": {},
   "outputs": [
    {
     "data": {
      "text/plain": [
       "array([[[0.73023411, 0.88121955, 0.07820761, 0.34464989, 0.95715909],\n",
       "        [0.66752599, 0.27519536, 0.45007348, 0.00683328, 0.86446766],\n",
       "        [0.67528221, 0.21101423, 0.30912561, 0.59193032, 0.82230411]],\n",
       "\n",
       "       [[0.63358498, 0.70383007, 0.88502058, 0.3614768 , 0.86546036],\n",
       "        [0.06575215, 0.87977502, 0.9943902 , 0.58768506, 0.44667747],\n",
       "        [0.0255915 , 0.05306012, 0.48781038, 0.50558674, 0.4305677 ]]])"
      ]
     },
     "execution_count": 30,
     "metadata": {},
     "output_type": "execute_result"
    }
   ],
   "source": [
    "# Method 2\n",
    "np.random.rand(2,3,5)"
   ]
  },
  {
   "cell_type": "code",
   "execution_count": 31,
   "metadata": {},
   "outputs": [
    {
     "data": {
      "text/plain": [
       "array([[[-0.21629538, -0.98403886,  1.6498929 , -0.8516862 ,\n",
       "         -0.40238566],\n",
       "        [ 0.95401251, -0.92941654,  0.6786437 , -0.64479518,\n",
       "         -0.07917475],\n",
       "        [-0.3755694 ,  2.19397092,  1.01498123, -0.06053457,\n",
       "          1.08865466]],\n",
       "\n",
       "       [[ 0.09221261, -0.07796416, -0.34326007, -1.60334852,\n",
       "         -0.52253844],\n",
       "        [-0.64190065, -1.78268624, -0.5988782 , -0.3429269 ,\n",
       "         -1.13696693],\n",
       "        [ 1.09382053, -0.46207192, -2.14962558, -1.11170334,\n",
       "          0.23923114]]])"
      ]
     },
     "execution_count": 31,
     "metadata": {},
     "output_type": "execute_result"
    }
   ],
   "source": [
    "# Method 3\n",
    "np.random.randn(2,3,5)"
   ]
  },
  {
   "cell_type": "markdown",
   "metadata": {},
   "source": [
    "#### 4. Print *a*.\n"
   ]
  },
  {
   "cell_type": "code",
   "execution_count": 32,
   "metadata": {},
   "outputs": [
    {
     "name": "stdout",
     "output_type": "stream",
     "text": [
      "[[[0.27154121 0.48740489 0.29178834 0.08973466 0.31777458]\n",
      "  [0.86051572 0.71658632 0.48224967 0.41909602 0.87562988]\n",
      "  [0.1923264  0.25071702 0.31895819 0.26667555 0.32056258]]\n",
      "\n",
      " [[0.10707206 0.35715371 0.47940168 0.08312859 0.58915575]\n",
      "  [0.26467975 0.052318   0.93198004 0.92207849 0.69830315]\n",
      "  [0.77387413 0.4869997  0.19838965 0.29087604 0.63083204]]]\n"
     ]
    }
   ],
   "source": [
    "print(a)"
   ]
  },
  {
   "cell_type": "markdown",
   "metadata": {},
   "source": [
    "#### 5. Create a 5x2x3 3-dimensional array with all values equaling 1. Assign the array to variable *b*."
   ]
  },
  {
   "cell_type": "code",
   "execution_count": 33,
   "metadata": {},
   "outputs": [],
   "source": [
    "b = np.ones((5,2,3))"
   ]
  },
  {
   "cell_type": "markdown",
   "metadata": {},
   "source": [
    "#### 6. Print *b*.\n"
   ]
  },
  {
   "cell_type": "code",
   "execution_count": 34,
   "metadata": {},
   "outputs": [
    {
     "name": "stdout",
     "output_type": "stream",
     "text": [
      "[[[1. 1. 1.]\n",
      "  [1. 1. 1.]]\n",
      "\n",
      " [[1. 1. 1.]\n",
      "  [1. 1. 1.]]\n",
      "\n",
      " [[1. 1. 1.]\n",
      "  [1. 1. 1.]]\n",
      "\n",
      " [[1. 1. 1.]\n",
      "  [1. 1. 1.]]\n",
      "\n",
      " [[1. 1. 1.]\n",
      "  [1. 1. 1.]]]\n"
     ]
    }
   ],
   "source": [
    "print(b)"
   ]
  },
  {
   "cell_type": "markdown",
   "metadata": {},
   "source": [
    "#### 7. Do *a* and *b* have the same size? How do you prove that in Python code?"
   ]
  },
  {
   "cell_type": "code",
   "execution_count": 35,
   "metadata": {},
   "outputs": [
    {
     "name": "stdout",
     "output_type": "stream",
     "text": [
      "(2, 3, 5)\n",
      "(5, 2, 3)\n"
     ]
    },
    {
     "data": {
      "text/plain": [
       "False"
      ]
     },
     "execution_count": 35,
     "metadata": {},
     "output_type": "execute_result"
    }
   ],
   "source": [
    "print(a.shape)\n",
    "print(b.shape)\n",
    "a.shape == b.shape"
   ]
  },
  {
   "cell_type": "code",
   "execution_count": 36,
   "metadata": {},
   "outputs": [
    {
     "name": "stdout",
     "output_type": "stream",
     "text": [
      "30\n",
      "30\n"
     ]
    },
    {
     "data": {
      "text/plain": [
       "True"
      ]
     },
     "execution_count": 36,
     "metadata": {},
     "output_type": "execute_result"
    }
   ],
   "source": [
    "print(a.size)\n",
    "print(b.size)\n",
    "a.size == b.size"
   ]
  },
  {
   "cell_type": "markdown",
   "metadata": {},
   "source": [
    "#### 8. Are you able to add *a* and *b*? Why or why not?\n"
   ]
  },
  {
   "cell_type": "code",
   "execution_count": 37,
   "metadata": {},
   "outputs": [
    {
     "ename": "ValueError",
     "evalue": "operands could not be broadcast together with shapes (2,3,5) (5,2,3) ",
     "output_type": "error",
     "traceback": [
      "\u001b[1;31m---------------------------------------------------------------------------\u001b[0m",
      "\u001b[1;31mValueError\u001b[0m                                Traceback (most recent call last)",
      "\u001b[1;32m~\\AppData\\Local\\Temp/ipykernel_9332/730714547.py\u001b[0m in \u001b[0;36m<module>\u001b[1;34m\u001b[0m\n\u001b[1;32m----> 1\u001b[1;33m \u001b[0mc\u001b[0m \u001b[1;33m=\u001b[0m \u001b[0ma\u001b[0m \u001b[1;33m+\u001b[0m \u001b[0mb\u001b[0m\u001b[1;33m\u001b[0m\u001b[1;33m\u001b[0m\u001b[0m\n\u001b[0m\u001b[0;32m      2\u001b[0m \u001b[1;31m# can't add since they have different shapes\u001b[0m\u001b[1;33m\u001b[0m\u001b[1;33m\u001b[0m\u001b[0m\n",
      "\u001b[1;31mValueError\u001b[0m: operands could not be broadcast together with shapes (2,3,5) (5,2,3) "
     ]
    }
   ],
   "source": [
    "c = a + b\n",
    "# can't add since they have different shapes"
   ]
  },
  {
   "cell_type": "markdown",
   "metadata": {},
   "source": [
    "#### 9. Transpose *b* so that it has the same structure of *a* (i.e. become a 2x3x5 array). Assign the transposed array to variable *c*."
   ]
  },
  {
   "cell_type": "code",
   "execution_count": 38,
   "metadata": {},
   "outputs": [
    {
     "data": {
      "text/plain": [
       "array([[[1., 1., 1., 1., 1.],\n",
       "        [1., 1., 1., 1., 1.],\n",
       "        [1., 1., 1., 1., 1.]],\n",
       "\n",
       "       [[1., 1., 1., 1., 1.],\n",
       "        [1., 1., 1., 1., 1.],\n",
       "        [1., 1., 1., 1., 1.]]])"
      ]
     },
     "execution_count": 38,
     "metadata": {},
     "output_type": "execute_result"
    }
   ],
   "source": [
    "# your code here\n",
    "c = b.reshape(2,3,5)\n",
    "c"
   ]
  },
  {
   "cell_type": "code",
   "execution_count": 39,
   "metadata": {},
   "outputs": [
    {
     "data": {
      "text/plain": [
       "(2, 3, 5)"
      ]
     },
     "execution_count": 39,
     "metadata": {},
     "output_type": "execute_result"
    }
   ],
   "source": [
    "cc = np.transpose(b, (1, 2, 0))\n",
    "cc.shape"
   ]
  },
  {
   "cell_type": "markdown",
   "metadata": {},
   "source": [
    "#### 10. Try to add *a* and *c*. Now it should work. Assign the sum to variable *d*. But why does it work now?"
   ]
  },
  {
   "cell_type": "code",
   "execution_count": 40,
   "metadata": {},
   "outputs": [
    {
     "data": {
      "text/plain": [
       "array([[[1.27154121, 1.48740489, 1.29178834, 1.08973466, 1.31777458],\n",
       "        [1.86051572, 1.71658632, 1.48224967, 1.41909602, 1.87562988],\n",
       "        [1.1923264 , 1.25071702, 1.31895819, 1.26667555, 1.32056258]],\n",
       "\n",
       "       [[1.10707206, 1.35715371, 1.47940168, 1.08312859, 1.58915575],\n",
       "        [1.26467975, 1.052318  , 1.93198004, 1.92207849, 1.69830315],\n",
       "        [1.77387413, 1.4869997 , 1.19838965, 1.29087604, 1.63083204]]])"
      ]
     },
     "execution_count": 40,
     "metadata": {},
     "output_type": "execute_result"
    }
   ],
   "source": [
    "d = a + c\n",
    "d\n",
    "# it works because they have the same shape"
   ]
  },
  {
   "cell_type": "markdown",
   "metadata": {},
   "source": [
    "#### 11. Print *a* and *d*. Notice the difference and relation of the two array in terms of the values? Explain."
   ]
  },
  {
   "cell_type": "code",
   "execution_count": 41,
   "metadata": {},
   "outputs": [
    {
     "name": "stdout",
     "output_type": "stream",
     "text": [
      "[[[0.27154121 0.48740489 0.29178834 0.08973466 0.31777458]\n",
      "  [0.86051572 0.71658632 0.48224967 0.41909602 0.87562988]\n",
      "  [0.1923264  0.25071702 0.31895819 0.26667555 0.32056258]]\n",
      "\n",
      " [[0.10707206 0.35715371 0.47940168 0.08312859 0.58915575]\n",
      "  [0.26467975 0.052318   0.93198004 0.92207849 0.69830315]\n",
      "  [0.77387413 0.4869997  0.19838965 0.29087604 0.63083204]]]\n",
      "[[[1.27154121 1.48740489 1.29178834 1.08973466 1.31777458]\n",
      "  [1.86051572 1.71658632 1.48224967 1.41909602 1.87562988]\n",
      "  [1.1923264  1.25071702 1.31895819 1.26667555 1.32056258]]\n",
      "\n",
      " [[1.10707206 1.35715371 1.47940168 1.08312859 1.58915575]\n",
      "  [1.26467975 1.052318   1.93198004 1.92207849 1.69830315]\n",
      "  [1.77387413 1.4869997  1.19838965 1.29087604 1.63083204]]]\n"
     ]
    }
   ],
   "source": [
    "print(a)\n",
    "print(d)\n",
    "\n",
    "# the value of d the value of a +1 "
   ]
  },
  {
   "cell_type": "markdown",
   "metadata": {},
   "source": [
    "#### 12. Multiply *a* and *c*. Assign the result to *e*."
   ]
  },
  {
   "cell_type": "code",
   "execution_count": 42,
   "metadata": {},
   "outputs": [
    {
     "data": {
      "text/plain": [
       "array([[[0.27154121, 0.48740489, 0.29178834, 0.08973466, 0.31777458],\n",
       "        [0.86051572, 0.71658632, 0.48224967, 0.41909602, 0.87562988],\n",
       "        [0.1923264 , 0.25071702, 0.31895819, 0.26667555, 0.32056258]],\n",
       "\n",
       "       [[0.10707206, 0.35715371, 0.47940168, 0.08312859, 0.58915575],\n",
       "        [0.26467975, 0.052318  , 0.93198004, 0.92207849, 0.69830315],\n",
       "        [0.77387413, 0.4869997 , 0.19838965, 0.29087604, 0.63083204]]])"
      ]
     },
     "execution_count": 42,
     "metadata": {},
     "output_type": "execute_result"
    }
   ],
   "source": [
    "e = a*c\n",
    "e"
   ]
  },
  {
   "cell_type": "markdown",
   "metadata": {},
   "source": [
    "#### 13. Does *e* equal to *a*? Why or why not?\n"
   ]
  },
  {
   "cell_type": "code",
   "execution_count": 43,
   "metadata": {},
   "outputs": [
    {
     "data": {
      "text/plain": [
       "array([[[ True,  True,  True,  True,  True],\n",
       "        [ True,  True,  True,  True,  True],\n",
       "        [ True,  True,  True,  True,  True]],\n",
       "\n",
       "       [[ True,  True,  True,  True,  True],\n",
       "        [ True,  True,  True,  True,  True],\n",
       "        [ True,  True,  True,  True,  True]]])"
      ]
     },
     "execution_count": 43,
     "metadata": {},
     "output_type": "execute_result"
    }
   ],
   "source": [
    "e == a\n",
    "# yes they have the same values"
   ]
  },
  {
   "cell_type": "markdown",
   "metadata": {},
   "source": [
    "#### 14. Identify the max, min, and mean values in *d*. Assign those values to variables *d_max*, *d_min* and *d_mean*."
   ]
  },
  {
   "cell_type": "code",
   "execution_count": 44,
   "metadata": {},
   "outputs": [
    {
     "name": "stdout",
     "output_type": "stream",
     "text": [
      "1.9319800399235256\n",
      "1.0523179988125955\n",
      "1.4342601271633149\n"
     ]
    }
   ],
   "source": [
    "d_max = d.max()\n",
    "d_min = d.min()\n",
    "d_mean = d.mean()\n",
    "\n",
    "print(d_max)\n",
    "print(d_min)\n",
    "print(d_mean)"
   ]
  },
  {
   "cell_type": "markdown",
   "metadata": {},
   "source": [
    "#### 15. Now we want to label the values in *d*. First create an empty array *f* with the same shape (i.e. 2x3x5) as *d* using `np.empty`.\n"
   ]
  },
  {
   "cell_type": "code",
   "execution_count": 45,
   "metadata": {},
   "outputs": [
    {
     "data": {
      "text/plain": [
       "array([[[0.27154121, 0.48740489, 0.29178834, 0.08973466, 0.31777458],\n",
       "        [0.86051572, 0.71658632, 0.48224967, 0.41909602, 0.87562988],\n",
       "        [0.1923264 , 0.25071702, 0.31895819, 0.26667555, 0.32056258]],\n",
       "\n",
       "       [[0.10707206, 0.35715371, 0.47940168, 0.08312859, 0.58915575],\n",
       "        [0.26467975, 0.052318  , 0.93198004, 0.92207849, 0.69830315],\n",
       "        [0.77387413, 0.4869997 , 0.19838965, 0.29087604, 0.63083204]]])"
      ]
     },
     "execution_count": 45,
     "metadata": {},
     "output_type": "execute_result"
    }
   ],
   "source": [
    "# the value inside is just placeholder\n",
    "f = np.empty((2,3,5))\n",
    "f"
   ]
  },
  {
   "cell_type": "markdown",
   "metadata": {},
   "source": [
    "#### 16. Populate the values in *f*. \n",
    "\n",
    "For each value in *d*, if it's larger than *d_min* but smaller than *d_mean*, assign 25 to the corresponding value in *f*. If a value in *d* is larger than *d_mean* but smaller than *d_max*, assign 75 to the corresponding value in *f*. If a value equals to *d_mean*, assign 50 to the corresponding value in *f*. Assign 0 to the corresponding value(s) in *f* for *d_min* in *d*. Assign 100 to the corresponding value(s) in *f* for *d_max* in *d*. In the end, f should have only the following values: 0, 25, 50, 75, and 100.\n",
    "\n",
    "**Note**: you don't have to use Numpy in this question."
   ]
  },
  {
   "cell_type": "code",
   "execution_count": 46,
   "metadata": {},
   "outputs": [],
   "source": [
    "f[(d_mean > d) & (d_min < d)] = 25\n",
    "f[(d_mean < d) &  (d_max > d)] = 75\n",
    "f[d == d_mean] = 50\n",
    "f[d == d_min] = 0\n",
    "f[d == d_max] = 100"
   ]
  },
  {
   "cell_type": "markdown",
   "metadata": {},
   "source": [
    "#### 17. Print *d* and *f*. Do you have your expected *f*?\n",
    "For instance, if your *d* is:\n",
    "```python\n",
    "[[[1.85836099, 1.67064465, 1.62576044, 1.40243961, 1.88454931],\n",
    "[1.75354326, 1.69403643, 1.36729252, 1.61415071, 1.12104981],\n",
    "[1.72201435, 1.1862918 , 1.87078449, 1.7726778 , 1.88180042]],\n",
    "[[1.44747908, 1.31673383, 1.02000951, 1.52218947, 1.97066381],\n",
    "[1.79129243, 1.74983003, 1.96028037, 1.85166831, 1.65450881],\n",
    "[1.18068344, 1.9587381 , 1.00656599, 1.93402165, 1.73514584]]]\n",
    "```\n",
    "Your *f* should be:\n",
    "```python\n",
    "[[[ 75.,  75.,  75.,  25.,  75.],\n",
    "[ 75.,  75.,  25.,  25.,  25.],\n",
    "[ 75.,  25.,  75.,  75.,  75.]],\n",
    "[[ 25.,  25.,  25.,  25., 100.],\n",
    "[ 75.,  75.,  75.,  75.,  75.],\n",
    "[ 25.,  75.,   0.,  75.,  75.]]]\n",
    "```"
   ]
  },
  {
   "cell_type": "code",
   "execution_count": 49,
   "metadata": {},
   "outputs": [
    {
     "name": "stdout",
     "output_type": "stream",
     "text": [
      "d:\n",
      "[[[1.27154121 1.48740489 1.29178834 1.08973466 1.31777458]\n",
      "  [1.86051572 1.71658632 1.48224967 1.41909602 1.87562988]\n",
      "  [1.1923264  1.25071702 1.31895819 1.26667555 1.32056258]]\n",
      "\n",
      " [[1.10707206 1.35715371 1.47940168 1.08312859 1.58915575]\n",
      "  [1.26467975 1.052318   1.93198004 1.92207849 1.69830315]\n",
      "  [1.77387413 1.4869997  1.19838965 1.29087604 1.63083204]]]\n",
      "f:\n",
      "[[[ 25.  75.  25.  25.  25.]\n",
      "  [ 75.  75.  75.  25.  75.]\n",
      "  [ 25.  25.  25.  25.  25.]]\n",
      "\n",
      " [[ 25.  25.  75.  25.  75.]\n",
      "  [ 25.   0. 100.  75.  75.]\n",
      "  [ 75.  75.  25.  25.  75.]]]\n"
     ]
    }
   ],
   "source": [
    "print('d:')\n",
    "print(d)\n",
    "\n",
    "print('f:')\n",
    "print(f)"
   ]
  },
  {
   "cell_type": "markdown",
   "metadata": {},
   "source": [
    "#### 18. Bonus question: instead of using numbers (i.e. 0, 25, 50, 75, and 100), use string values  (\"A\", \"B\", \"C\", \"D\", and \"E\") to label the array elements. For the example above, the expected result is:\n",
    "\n",
    "```python\n",
    "[[[ 'D',  'D',  'D',  'B',  'D'],\n",
    "[ 'D',  'D',  'B',  'B',  'B'],\n",
    "[ 'D',  'B',  'D',  'D',  'D']],\n",
    "[[ 'B',  'B',  'B',  'B',  'E'],\n",
    "[ 'D',  'D',  'D',  'D',  'D'],\n",
    "[ 'B',  'D',   'A',  'D', 'D']]]\n",
    "```\n",
    "**Note**: you don't have to use Numpy in this question."
   ]
  },
  {
   "cell_type": "code",
   "execution_count": 48,
   "metadata": {},
   "outputs": [],
   "source": [
    "# your code here"
   ]
  }
 ],
 "metadata": {
  "interpreter": {
   "hash": "fd29832eff5d8b6d8e2de460dbfc6e2d5e3418225606d70534be3c12ac1970a5"
  },
  "kernelspec": {
   "display_name": "Python 3.9.7 64-bit",
   "name": "python3"
  },
  "language_info": {
   "codemirror_mode": {
    "name": "ipython",
    "version": 3
   },
   "file_extension": ".py",
   "mimetype": "text/x-python",
   "name": "python",
   "nbconvert_exporter": "python",
   "pygments_lexer": "ipython3",
   "version": "3.9.7"
  }
 },
 "nbformat": 4,
 "nbformat_minor": 2
}
