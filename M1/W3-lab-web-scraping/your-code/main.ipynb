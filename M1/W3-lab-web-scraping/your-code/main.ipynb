{
 "cells": [
  {
   "cell_type": "markdown",
   "metadata": {},
   "source": [
    "# Web Scraping Lab\n",
    "\n",
    "You will find in this notebook some scrapy exercises to practise your scraping skills.\n",
    "\n",
    "**Tips:**\n",
    "\n",
    "- Check the response status code for each request to ensure you have obtained the intended content.\n",
    "- Print the response text in each request to understand the kind of info you are getting and its format.\n",
    "- Check for patterns in the response text to extract the data/info requested in each question.\n",
    "- Visit the urls below and take a look at their source code through Chrome DevTools. You'll need to identify the html tags, special class names, etc used in the html content you are expected to extract.\n",
    "\n",
    "**Resources**:\n",
    "- [Requests library](http://docs.python-requests.org/en/master/#the-user-guide)\n",
    "- [Beautiful Soup Doc](https://www.crummy.com/software/BeautifulSoup/bs4/doc/)\n",
    "- [Urllib](https://docs.python.org/3/library/urllib.html#module-urllib)\n",
    "- [re lib](https://docs.python.org/3/library/re.html)\n",
    "- [lxml lib](https://lxml.de/)\n",
    "- [Scrapy](https://scrapy.org/)\n",
    "- [List of HTTP status codes](https://en.wikipedia.org/wiki/List_of_HTTP_status_codes)\n",
    "- [HTML basics](http://www.simplehtmlguide.com/cheatsheet.php)\n",
    "- [CSS basics](https://www.cssbasics.com/#page_start)"
   ]
  },
  {
   "cell_type": "markdown",
   "metadata": {},
   "source": [
    "#### Below are the libraries and modules you may need. `requests`,  `BeautifulSoup` and `pandas` are already imported for you. If you prefer to use additional libraries feel free to do it."
   ]
  },
  {
   "cell_type": "code",
   "execution_count": 3,
   "metadata": {},
   "outputs": [],
   "source": [
    "import requests\n",
    "from bs4 import BeautifulSoup\n",
    "import pandas as pd"
   ]
  },
  {
   "cell_type": "markdown",
   "metadata": {},
   "source": [
    "#### Download, parse (using BeautifulSoup), and print the content from the Trending Developers page from GitHub:"
   ]
  },
  {
   "cell_type": "code",
   "execution_count": 2,
   "metadata": {},
   "outputs": [],
   "source": [
    "# This is the url you will scrape in this exercise\n",
    "url = 'https://github.com/trending/developers'"
   ]
  },
  {
   "cell_type": "code",
   "execution_count": 3,
   "metadata": {},
   "outputs": [
    {
     "data": {
      "text/plain": [
       "<Response [200]>"
      ]
     },
     "execution_count": 3,
     "metadata": {},
     "output_type": "execute_result"
    }
   ],
   "source": [
    "response = requests.get(url)\n",
    "response"
   ]
  },
  {
   "cell_type": "code",
   "execution_count": 4,
   "metadata": {},
   "outputs": [],
   "source": [
    "soup = BeautifulSoup(response.content)"
   ]
  },
  {
   "cell_type": "markdown",
   "metadata": {},
   "source": [
    "#### 1. Display the names of the trending developers retrieved in the previous step.\n",
    "\n",
    "Your output should be a Python list of developer names. Each name should not contain any html tag.\n",
    "\n",
    "**Instructions:**\n",
    "\n",
    "1. Find out the html tag and class names used for the developer names. You can achieve this using Chrome DevTools or clicking in 'Inspect' on any browser. Here is an example:\n",
    "\n",
    "![title](example_1.png)\n",
    "\n",
    "2. Use BeautifulSoup `find_all()` to extract all the html elements that contain the developer names. Hint: pass in the `attrs` parameter to specify the class.\n",
    "\n",
    "3. Loop through the elements found and get the text for each of them.\n",
    "\n",
    "4. While you are at it, use string manipulation techniques to replace whitespaces and linebreaks (i.e. `\\n`) in the *text* of each html element. Use a list to store the clean names. Hint: you may also use `.get_text()` instead of `.text` and pass in the desired parameters to do some string manipulation (check the documentation).\n",
    "\n",
    "5. Print the list of names.\n",
    "\n",
    "Your output should look like below:\n",
    "\n",
    "```\n",
    "['trimstray (@trimstray)',\n",
    " 'joewalnes (JoeWalnes)',\n",
    " 'charlax (Charles-AxelDein)',\n",
    " 'ForrestKnight (ForrestKnight)',\n",
    " 'revery-ui (revery-ui)',\n",
    " 'alibaba (Alibaba)',\n",
    " 'Microsoft (Microsoft)',\n",
    " 'github (GitHub)',\n",
    " 'facebook (Facebook)',\n",
    " 'boazsegev (Bo)',\n",
    " 'google (Google)',\n",
    " 'cloudfetch',\n",
    " 'sindresorhus (SindreSorhus)',\n",
    " 'tensorflow',\n",
    " 'apache (TheApacheSoftwareFoundation)',\n",
    " 'DevonCrawford (DevonCrawford)',\n",
    " 'ARMmbed (ArmMbed)',\n",
    " 'vuejs (vuejs)',\n",
    " 'fastai (fast.ai)',\n",
    " 'QiShaoXuan (Qi)',\n",
    " 'joelparkerhenderson (JoelParkerHenderson)',\n",
    " 'torvalds (LinusTorvalds)',\n",
    " 'CyC2018',\n",
    " 'komeiji-satori (神楽坂覚々)',\n",
    " 'script-8']\n",
    " ```"
   ]
  },
  {
   "cell_type": "code",
   "execution_count": 5,
   "metadata": {},
   "outputs": [
    {
     "data": {
      "text/plain": [
       "['Jan De Dobbeleer (JanDeDobbeleer)',\n",
       " 'Geoff Bourne (itzg)',\n",
       " 'Jorge Leitao (jorgecarleitao)',\n",
       " 'Armin Ronacher (mitsuhiko)',\n",
       " 'Ritchie Vink (ritchie46)',\n",
       " 'Franck Nijhof (frenck)',\n",
       " 'William Boman (williamboman)',\n",
       " 'Alex Gaynor (alex)',\n",
       " 'Shunsuke Suzuki (suzuki-shunsuke)',\n",
       " 'Taiki Endo (taiki-e)',\n",
       " 'Lucas Fernandes Nogueira (lucasfernog)',\n",
       " 'Romain Beaumont (rom1504)',\n",
       " 'PySimpleGUI (PySimpleGUI)',\n",
       " 'Yujia Qiao (rapiz1)',\n",
       " 'Balázs Orbán (balazsorban44)',\n",
       " 'Avelino (avelino)',\n",
       " 'Ben V. Brown (Ralim)',\n",
       " 'Jose Alvarez (jose-elias-alvarez)',\n",
       " 'Jérôme Laban (jeromelaban)',\n",
       " 'Vladimir Agafonkin (mourner)',\n",
       " 'Stefano Gottardo (CastagnaIT)',\n",
       " 'Rich Harris (Rich-Harris)',\n",
       " 'Arvid Norberg (arvidn)',\n",
       " 'Laurent (laurent22)',\n",
       " 'LoveSy (yujincheng08)']"
      ]
     },
     "execution_count": 5,
     "metadata": {},
     "output_type": "execute_result"
    }
   ],
   "source": [
    "names = soup.find_all('h1', attrs={'class': 'h3 lh-condensed'})\n",
    "usernames = soup.find_all('p', attrs= {'class': 'f4 text-normal mb-1'})\n",
    "\n",
    "# find name and username\n",
    "name = [name.get_text(strip=True) for name in names]\n",
    "username = [username.get_text(strip=True) for username in usernames]\n",
    "\n",
    "# put it together in the format specified\n",
    "devs = [name[i] + ' ' + '('+username[i]+')' for i in range(len(name))]\n",
    "devs"
   ]
  },
  {
   "cell_type": "markdown",
   "metadata": {},
   "source": [
    "#### 1.1. Display the trending Python repositories in GitHub.\n",
    "\n",
    "The steps to solve this problem is similar to the previous one except that you need to find out the repository names instead of developer names."
   ]
  },
  {
   "cell_type": "code",
   "execution_count": 6,
   "metadata": {},
   "outputs": [],
   "source": [
    "# This is the url you will scrape in this exercise\n",
    "url = 'https://github.com/trending/python?since=daily'"
   ]
  },
  {
   "cell_type": "code",
   "execution_count": 7,
   "metadata": {},
   "outputs": [
    {
     "data": {
      "text/plain": [
       "<Response [200]>"
      ]
     },
     "execution_count": 7,
     "metadata": {},
     "output_type": "execute_result"
    }
   ],
   "source": [
    "response = requests.get(url)\n",
    "response"
   ]
  },
  {
   "cell_type": "code",
   "execution_count": 8,
   "metadata": {},
   "outputs": [],
   "source": [
    "soup = BeautifulSoup(response.content)"
   ]
  },
  {
   "cell_type": "code",
   "execution_count": 9,
   "metadata": {},
   "outputs": [
    {
     "data": {
      "text/plain": [
       "['core',\n",
       " 'systematic-trader',\n",
       " 'mindsdb',\n",
       " 'hackingtool',\n",
       " 'system-design-primer',\n",
       " 'freqtrade',\n",
       " 'you-get',\n",
       " 'nonebot2',\n",
       " 'manim',\n",
       " 'hummingbot',\n",
       " 'videos',\n",
       " 'stable-baselines3',\n",
       " 'yolov7',\n",
       " 'gym',\n",
       " 'bulk-upload-to-opensea',\n",
       " 'paperless-ng',\n",
       " 'whoogle-search',\n",
       " 'bluefog',\n",
       " 'manim',\n",
       " 'TDengine',\n",
       " 'Blend_My_NFTs',\n",
       " 'pycord',\n",
       " 'sherlock',\n",
       " 'cadquery',\n",
       " 'deep-learning-for-image-processing']"
      ]
     },
     "execution_count": 9,
     "metadata": {},
     "output_type": "execute_result"
    }
   ],
   "source": [
    "# find repos name\n",
    "repos = soup.find_all('h1', attrs={'class': 'h3 lh-condensed'})\n",
    "repo = [repo.get_text(strip=True).split('/').pop() for repo in repos]\n",
    "repo"
   ]
  },
  {
   "cell_type": "markdown",
   "metadata": {},
   "source": [
    "#### 2. Display all the image links from Walt Disney wikipedia page.\n",
    "Hint: use `.get()` to access information inside tags. Check out the documentation."
   ]
  },
  {
   "cell_type": "code",
   "execution_count": 4,
   "metadata": {},
   "outputs": [],
   "source": [
    "# This is the url you will scrape in this exercise\n",
    "url = 'https://en.wikipedia.org/wiki/Walt_Disney'"
   ]
  },
  {
   "cell_type": "code",
   "execution_count": 5,
   "metadata": {},
   "outputs": [
    {
     "data": {
      "text/plain": [
       "<Response [200]>"
      ]
     },
     "execution_count": 5,
     "metadata": {},
     "output_type": "execute_result"
    }
   ],
   "source": [
    "response = requests.get(url)\n",
    "response"
   ]
  },
  {
   "cell_type": "code",
   "execution_count": 6,
   "metadata": {},
   "outputs": [],
   "source": [
    "soup = BeautifulSoup(response.content)"
   ]
  },
  {
   "cell_type": "code",
   "execution_count": 7,
   "metadata": {},
   "outputs": [
    {
     "data": {
      "text/plain": [
       "['/wiki/File:Walt_Disney_1946.JPG',\n",
       " '/wiki/File:Walt_Disney_1942_signature.svg',\n",
       " '/wiki/File:Walt_Disney_envelope_ca._1921.jpg',\n",
       " '/wiki/File:Trolley_Troubles_poster.jpg',\n",
       " '/wiki/File:Steamboat-willie.jpg',\n",
       " '/wiki/File:Walt_Disney_1935.jpg',\n",
       " '/wiki/File:Walt_Disney_Snow_white_1937_trailer_screenshot_(13).jpg',\n",
       " '/wiki/File:Disney_drawing_goofy.jpg',\n",
       " '/wiki/File:DisneySchiphol1951.jpg',\n",
       " '/wiki/File:WaltDisneyplansDisneylandDec1954.jpg',\n",
       " '/wiki/File:Walt_disney_portrait_right.jpg',\n",
       " '/wiki/File:Walt_Disney_Grave.JPG',\n",
       " '/wiki/File:Roy_O._Disney_with_Company_at_Press_Conference.jpg',\n",
       " '/wiki/File:Disney_Oscar_1953_(cropped).jpg',\n",
       " '/wiki/File:Disney1968.jpg',\n",
       " '/wiki/File:Disneyland_Resort_logo.svg',\n",
       " '/wiki/File:Animation_disc.svg',\n",
       " '/wiki/File:P_vip.svg',\n",
       " '/wiki/File:Magic_Kingdom_castle.jpg',\n",
       " '/wiki/File:Video-x-generic.svg',\n",
       " '/wiki/File:Flag_of_Los_Angeles_County,_California.svg',\n",
       " '/wiki/File:Blank_television_set.svg',\n",
       " '/wiki/File:Flag_of_the_United_States.svg']"
      ]
     },
     "execution_count": 7,
     "metadata": {},
     "output_type": "execute_result"
    }
   ],
   "source": [
    "# find url for each image\n",
    "images = soup.find_all('a', attrs={'class': 'image'})\n",
    "image = [image['href'] for image in images]\n",
    "image\n"
   ]
  },
  {
   "cell_type": "code",
   "execution_count": 12,
   "metadata": {},
   "outputs": [
    {
     "name": "stdout",
     "output_type": "stream",
     "text": [
      "['//upload.wikimedia.org/wikipedia/en/thumb/e/e7/Cscr-featured.svg/20px-Cscr-featured.svg.png', '//upload.wikimedia.org/wikipedia/en/thumb/8/8c/Extended-protection-shackle.svg/20px-Extended-protection-shackle.svg.png', '//upload.wikimedia.org/wikipedia/commons/thumb/d/df/Walt_Disney_1946.JPG/220px-Walt_Disney_1946.JPG', '//upload.wikimedia.org/wikipedia/commons/thumb/8/87/Walt_Disney_1942_signature.svg/150px-Walt_Disney_1942_signature.svg.png', '//upload.wikimedia.org/wikipedia/commons/thumb/c/c4/Walt_Disney_envelope_ca._1921.jpg/220px-Walt_Disney_envelope_ca._1921.jpg', '//upload.wikimedia.org/wikipedia/commons/thumb/4/4d/Newman_Laugh-O-Gram_%281921%29.webm/220px-seek%3D2-Newman_Laugh-O-Gram_%281921%29.webm.jpg', '//upload.wikimedia.org/wikipedia/commons/thumb/0/0d/Trolley_Troubles_poster.jpg/170px-Trolley_Troubles_poster.jpg', '//upload.wikimedia.org/wikipedia/en/thumb/4/4e/Steamboat-willie.jpg/170px-Steamboat-willie.jpg', '//upload.wikimedia.org/wikipedia/commons/thumb/5/57/Walt_Disney_1935.jpg/170px-Walt_Disney_1935.jpg', '//upload.wikimedia.org/wikipedia/commons/thumb/c/cd/Walt_Disney_Snow_white_1937_trailer_screenshot_%2813%29.jpg/220px-Walt_Disney_Snow_white_1937_trailer_screenshot_%2813%29.jpg', '//upload.wikimedia.org/wikipedia/commons/thumb/1/15/Disney_drawing_goofy.jpg/170px-Disney_drawing_goofy.jpg', '//upload.wikimedia.org/wikipedia/commons/thumb/1/13/DisneySchiphol1951.jpg/220px-DisneySchiphol1951.jpg', '//upload.wikimedia.org/wikipedia/commons/thumb/8/8c/WaltDisneyplansDisneylandDec1954.jpg/220px-WaltDisneyplansDisneylandDec1954.jpg', '//upload.wikimedia.org/wikipedia/commons/thumb/f/ff/Walt_disney_portrait_right.jpg/170px-Walt_disney_portrait_right.jpg', '//upload.wikimedia.org/wikipedia/commons/thumb/1/1a/Walt_Disney_Grave.JPG/170px-Walt_Disney_Grave.JPG', '//upload.wikimedia.org/wikipedia/commons/thumb/2/2d/Roy_O._Disney_with_Company_at_Press_Conference.jpg/170px-Roy_O._Disney_with_Company_at_Press_Conference.jpg', '//upload.wikimedia.org/wikipedia/commons/thumb/b/b0/Disney_Oscar_1953_%28cropped%29.jpg/170px-Disney_Oscar_1953_%28cropped%29.jpg', '//upload.wikimedia.org/wikipedia/commons/thumb/6/6c/Disney1968.jpg/170px-Disney1968.jpg', '//upload.wikimedia.org/wikipedia/en/thumb/8/8a/OOjs_UI_icon_edit-ltr-progressive.svg/10px-OOjs_UI_icon_edit-ltr-progressive.svg.png', '//upload.wikimedia.org/wikipedia/commons/thumb/e/e3/Disneyland_Resort_logo.svg/135px-Disneyland_Resort_logo.svg.png', '//upload.wikimedia.org/wikipedia/commons/thumb/d/da/Animation_disc.svg/20px-Animation_disc.svg.png', '//upload.wikimedia.org/wikipedia/en/thumb/6/69/P_vip.svg/19px-P_vip.svg.png', '//upload.wikimedia.org/wikipedia/commons/thumb/1/1a/Magic_Kingdom_castle.jpg/15px-Magic_Kingdom_castle.jpg', '//upload.wikimedia.org/wikipedia/en/thumb/e/e7/Video-x-generic.svg/19px-Video-x-generic.svg.png', '//upload.wikimedia.org/wikipedia/commons/thumb/a/a3/Flag_of_Los_Angeles_County%2C_California.svg/21px-Flag_of_Los_Angeles_County%2C_California.svg.png', '//upload.wikimedia.org/wikipedia/commons/thumb/8/8c/Blank_television_set.svg/21px-Blank_television_set.svg.png', '//upload.wikimedia.org/wikipedia/en/thumb/a/a4/Flag_of_the_United_States.svg/21px-Flag_of_the_United_States.svg.png', '//upload.wikimedia.org/wikipedia/en/thumb/4/4a/Commons-logo.svg/14px-Commons-logo.svg.png', '//upload.wikimedia.org/wikipedia/commons/thumb/f/fa/Wikiquote-logo.svg/16px-Wikiquote-logo.svg.png', '//upload.wikimedia.org/wikipedia/commons/thumb/f/ff/Wikidata-logo.svg/21px-Wikidata-logo.svg.png', '//upload.wikimedia.org/wikipedia/en/thumb/8/8a/OOjs_UI_icon_edit-ltr-progressive.svg/10px-OOjs_UI_icon_edit-ltr-progressive.svg.png', '//en.wikipedia.org/wiki/Special:CentralAutoLogin/start?type=1x1', '/static/images/footer/wikimedia-button.png', '/static/images/footer/poweredby_mediawiki_88x31.png']\n"
     ]
    }
   ],
   "source": [
    "wiki_images = soup.find_all('img')\n",
    "wiki_images\n",
    "\n",
    "#getting only image links\n",
    "wiki_images_url = [wurl.get('src') for wurl in wiki_images]\n",
    "print(wiki_images_url)"
   ]
  },
  {
   "cell_type": "markdown",
   "metadata": {},
   "source": [
    "#### 2.1. List all language names and number of related articles in the order they appear in wikipedia.org."
   ]
  },
  {
   "cell_type": "code",
   "execution_count": 13,
   "metadata": {},
   "outputs": [],
   "source": [
    "# This is the url you will scrape in this exercise\n",
    "url = 'https://www.wikipedia.org/'"
   ]
  },
  {
   "cell_type": "code",
   "execution_count": 14,
   "metadata": {},
   "outputs": [
    {
     "data": {
      "text/plain": [
       "<Response [200]>"
      ]
     },
     "execution_count": 14,
     "metadata": {},
     "output_type": "execute_result"
    }
   ],
   "source": [
    "response = requests.get(url)\n",
    "response"
   ]
  },
  {
   "cell_type": "code",
   "execution_count": 15,
   "metadata": {},
   "outputs": [],
   "source": [
    "soup = BeautifulSoup(response.content)"
   ]
  },
  {
   "cell_type": "code",
   "execution_count": 16,
   "metadata": {},
   "outputs": [
    {
     "data": {
      "text/plain": [
       "['English6 383 000+articles',\n",
       " '日本語1 292 000+記事',\n",
       " 'Русский1 756 000+статей',\n",
       " 'Deutsch2 617 000+Artikel',\n",
       " 'Español1 717 000+artículos',\n",
       " 'Français2 362 000+articles',\n",
       " 'Italiano1 718 000+voci',\n",
       " '中文1 231 000+條目',\n",
       " 'Polski1 490 000+haseł',\n",
       " 'Português1 074 000+artigos']"
      ]
     },
     "execution_count": 16,
     "metadata": {},
     "output_type": "execute_result"
    }
   ],
   "source": [
    "# find top language and articles number\n",
    "languages = soup.find_all('div', attrs={'class': 'central-featured-lang'})\n",
    "language = [language.get_text(strip=True).replace(u'\\xa0', ' ') for language in languages]\n",
    "language"
   ]
  },
  {
   "cell_type": "markdown",
   "metadata": {},
   "source": [
    "#### 2.2. Display the top 10 languages by number of native speakers stored in a pandas dataframe.\n",
    "Hint: After finding the correct table you want to analyse, you can use a nested **for** loop to find the elements row by row (check out the 'td' and 'tr' tags). <br>An easier way to do it is using pd.read_html(), check out documentation [here](https://pandas.pydata.org/pandas-docs/version/0.23.4/generated/pandas.read_html.html)."
   ]
  },
  {
   "cell_type": "code",
   "execution_count": 18,
   "metadata": {},
   "outputs": [],
   "source": [
    "# This is the url you will scrape in this exercise\n",
    "url = 'https://en.wikipedia.org/wiki/List_of_languages_by_number_of_native_speakers'"
   ]
  },
  {
   "cell_type": "code",
   "execution_count": 19,
   "metadata": {},
   "outputs": [
    {
     "data": {
      "text/html": [
       "<div>\n",
       "<style scoped>\n",
       "    .dataframe tbody tr th:only-of-type {\n",
       "        vertical-align: middle;\n",
       "    }\n",
       "\n",
       "    .dataframe tbody tr th {\n",
       "        vertical-align: top;\n",
       "    }\n",
       "\n",
       "    .dataframe thead th {\n",
       "        text-align: right;\n",
       "    }\n",
       "</style>\n",
       "<table border=\"1\" class=\"dataframe\">\n",
       "  <thead>\n",
       "    <tr style=\"text-align: right;\">\n",
       "      <th></th>\n",
       "      <th>Rank</th>\n",
       "      <th>Language</th>\n",
       "      <th>Speakers(millions)</th>\n",
       "      <th>Percentageof world pop.(March 2019)[10]</th>\n",
       "      <th>Language family</th>\n",
       "      <th>Branch</th>\n",
       "    </tr>\n",
       "  </thead>\n",
       "  <tbody>\n",
       "    <tr>\n",
       "      <th>0</th>\n",
       "      <td>1</td>\n",
       "      <td>Mandarin Chinese</td>\n",
       "      <td>918</td>\n",
       "      <td>11.922%</td>\n",
       "      <td>Sino-Tibetan</td>\n",
       "      <td>Sinitic</td>\n",
       "    </tr>\n",
       "    <tr>\n",
       "      <th>1</th>\n",
       "      <td>2</td>\n",
       "      <td>Spanish</td>\n",
       "      <td>480</td>\n",
       "      <td>5.994%</td>\n",
       "      <td>Indo-European</td>\n",
       "      <td>Romance</td>\n",
       "    </tr>\n",
       "    <tr>\n",
       "      <th>2</th>\n",
       "      <td>3</td>\n",
       "      <td>English</td>\n",
       "      <td>379</td>\n",
       "      <td>4.922%</td>\n",
       "      <td>Indo-European</td>\n",
       "      <td>Germanic</td>\n",
       "    </tr>\n",
       "    <tr>\n",
       "      <th>3</th>\n",
       "      <td>4</td>\n",
       "      <td>Hindi (sanskritised Hindustani)[11]</td>\n",
       "      <td>341</td>\n",
       "      <td>4.429%</td>\n",
       "      <td>Indo-European</td>\n",
       "      <td>Indo-Aryan</td>\n",
       "    </tr>\n",
       "    <tr>\n",
       "      <th>4</th>\n",
       "      <td>5</td>\n",
       "      <td>Bengali</td>\n",
       "      <td>300</td>\n",
       "      <td>4.000%</td>\n",
       "      <td>Indo-European</td>\n",
       "      <td>Indo-Aryan</td>\n",
       "    </tr>\n",
       "    <tr>\n",
       "      <th>5</th>\n",
       "      <td>6</td>\n",
       "      <td>Portuguese</td>\n",
       "      <td>221</td>\n",
       "      <td>2.870%</td>\n",
       "      <td>Indo-European</td>\n",
       "      <td>Romance</td>\n",
       "    </tr>\n",
       "    <tr>\n",
       "      <th>6</th>\n",
       "      <td>7</td>\n",
       "      <td>Russian</td>\n",
       "      <td>154</td>\n",
       "      <td>2.000%</td>\n",
       "      <td>Indo-European</td>\n",
       "      <td>Balto-Slavic</td>\n",
       "    </tr>\n",
       "    <tr>\n",
       "      <th>7</th>\n",
       "      <td>8</td>\n",
       "      <td>Japanese</td>\n",
       "      <td>128</td>\n",
       "      <td>1.662%</td>\n",
       "      <td>Japonic</td>\n",
       "      <td>Japanese</td>\n",
       "    </tr>\n",
       "    <tr>\n",
       "      <th>8</th>\n",
       "      <td>9</td>\n",
       "      <td>Western Punjabi[12]</td>\n",
       "      <td>92.7</td>\n",
       "      <td>1.204%</td>\n",
       "      <td>Indo-European</td>\n",
       "      <td>Indo-Aryan</td>\n",
       "    </tr>\n",
       "    <tr>\n",
       "      <th>9</th>\n",
       "      <td>10</td>\n",
       "      <td>Marathi</td>\n",
       "      <td>83.1</td>\n",
       "      <td>1.079%</td>\n",
       "      <td>Indo-European</td>\n",
       "      <td>Indo-Aryan</td>\n",
       "    </tr>\n",
       "  </tbody>\n",
       "</table>\n",
       "</div>"
      ],
      "text/plain": [
       "   Rank                             Language Speakers(millions)  \\\n",
       "0     1                     Mandarin Chinese                918   \n",
       "1     2                              Spanish                480   \n",
       "2     3                              English                379   \n",
       "3     4  Hindi (sanskritised Hindustani)[11]                341   \n",
       "4     5                              Bengali                300   \n",
       "5     6                           Portuguese                221   \n",
       "6     7                              Russian                154   \n",
       "7     8                             Japanese                128   \n",
       "8     9                  Western Punjabi[12]               92.7   \n",
       "9    10                              Marathi               83.1   \n",
       "\n",
       "  Percentageof world pop.(March 2019)[10] Language family        Branch  \n",
       "0                                 11.922%    Sino-Tibetan       Sinitic  \n",
       "1                                  5.994%   Indo-European       Romance  \n",
       "2                                  4.922%   Indo-European      Germanic  \n",
       "3                                  4.429%   Indo-European    Indo-Aryan  \n",
       "4                                  4.000%   Indo-European    Indo-Aryan  \n",
       "5                                  2.870%   Indo-European       Romance  \n",
       "6                                  2.000%   Indo-European  Balto-Slavic  \n",
       "7                                  1.662%         Japonic      Japanese  \n",
       "8                                  1.204%   Indo-European    Indo-Aryan  \n",
       "9                                  1.079%   Indo-European    Indo-Aryan  "
      ]
     },
     "execution_count": 19,
     "metadata": {},
     "output_type": "execute_result"
    }
   ],
   "source": [
    "import pandas as pd\n",
    "import lxml\n",
    "\n",
    "table = pd.read_html(url)\n",
    "table[1].head(10)"
   ]
  },
  {
   "cell_type": "markdown",
   "metadata": {},
   "source": [
    "#### 3. Display IMDB's top 250 data (movie name, initial release, director name and stars) as a pandas dataframe.\n",
    "Hint: If you hover over the title of the movie, you should see the director's name. Can you find where it's stored in the html?"
   ]
  },
  {
   "cell_type": "code",
   "execution_count": 21,
   "metadata": {},
   "outputs": [
    {
     "data": {
      "text/plain": [
       "<Response [200]>"
      ]
     },
     "execution_count": 21,
     "metadata": {},
     "output_type": "execute_result"
    }
   ],
   "source": [
    "# This is the url you will scrape in this exercise \n",
    "url = 'https://www.imdb.com/chart/top'\n",
    "response = requests.get(url)\n",
    "response"
   ]
  },
  {
   "cell_type": "code",
   "execution_count": 22,
   "metadata": {},
   "outputs": [],
   "source": [
    "soup = BeautifulSoup(response.content)"
   ]
  },
  {
   "cell_type": "code",
   "execution_count": 23,
   "metadata": {},
   "outputs": [
    {
     "data": {
      "text/plain": [
       "['Os Condenados de Shawshank (1994)',\n",
       " 'O Padrinho (1972)',\n",
       " 'O Padrinho: Parte II (1974)',\n",
       " 'O Cavaleiro das Trevas (2008)',\n",
       " 'Doze Homens em Fúria (1957)',\n",
       " 'A Lista de Schindler (1993)',\n",
       " 'O Senhor dos Anéis - O Regresso do Rei (2003)',\n",
       " 'Pulp Fiction (1994)',\n",
       " 'O Bom, o Mau e o Vilão (1966)',\n",
       " 'O Senhor dos Anéis - A Irmandade do Anel (2001)',\n",
       " 'Clube de Combate (1999)',\n",
       " 'Forrest Gump (1994)',\n",
       " 'A Origem (2010)',\n",
       " 'O Senhor dos Anéis - As Duas Torres (2002)',\n",
       " 'Star Wars: Episódio V - O Império Contra-Ataca (1980)',\n",
       " 'Matrix (1999)',\n",
       " 'Tudo Bons Rapazes (1990)',\n",
       " 'Voando Sobre Um Ninho de Cucos (1975)',\n",
       " 'Os Sete Samurais (1954)',\n",
       " 'Seven - 7 Pecados Mortais (1995)',\n",
       " 'O Silêncio dos Inocentes (1991)',\n",
       " 'Cidade de Deus (2002)',\n",
       " 'A Vida É Bela (1997)',\n",
       " 'Do Céu Caiu Uma Estrela (1946)',\n",
       " 'O Resgate do Soldado Ryan (1998)',\n",
       " 'Star Wars: Episódio IV - Uma Nova Esperança (1977)',\n",
       " 'Homem-Aranha: Sem Volta a Casa (2021)',\n",
       " 'Interstellar (2014)',\n",
       " 'A Viagem de Chihiro (2001)',\n",
       " 'À Espera de Um Milagre (1999)',\n",
       " 'Parasitas (2019)',\n",
       " 'Léon, o Profissional (1994)',\n",
       " 'Harakiri (1962)',\n",
       " 'O Pianista (2002)',\n",
       " 'Exterminador Implacável 2: O dia do julgamento (1991)',\n",
       " 'Regresso ao Futuro (1985)',\n",
       " 'Os Suspeitos do Costume (1995)',\n",
       " 'Psico (1960)',\n",
       " 'The Lion King (1994)',\n",
       " 'Tempos Modernos (1936)',\n",
       " 'O Túmulo dos Pirilampos (1988)',\n",
       " 'América Proibida (1998)',\n",
       " 'Whiplash - Nos Limites (2014)',\n",
       " 'Gladiador (2000)',\n",
       " 'The Departed - Entre Inimigos (2006)',\n",
       " 'Luzes da Cidade (1931)',\n",
       " 'Amigos Improváveis (2011)',\n",
       " 'O Terceiro Passo (2006)',\n",
       " 'Casablanca (1942)',\n",
       " 'Aconteceu no Oeste (1968)',\n",
       " 'Janela Indiscreta (1954)',\n",
       " 'Cinema Paraíso (1988)',\n",
       " 'º Passageiro (1979)',\n",
       " 'Apocalypse Now (1979)',\n",
       " 'Memento (2000)',\n",
       " 'Os Salteadores da Arca Perdida (1981)',\n",
       " 'O Grande Ditador (1940)',\n",
       " 'Django Libertado (2012)',\n",
       " 'As Vidas dos Outros (2006)',\n",
       " 'Horizontes de Glória (1957)',\n",
       " 'Crepúsculo dos Deuses (1950)',\n",
       " 'WALL·E (2008)',\n",
       " 'Vingadores: Guerra do Infinito (2018)',\n",
       " 'Testemunha de Acusação (1957)',\n",
       " 'Homem-Aranha: No Universo Aranha (2018)',\n",
       " 'Shining (1980)',\n",
       " 'Estranhoamor (1964)',\n",
       " 'A Princesa Mononoke (1997)',\n",
       " 'Oldboy-Velho amigo (2003)',\n",
       " 'Joker (2019)',\n",
       " '(2016)',\n",
       " 'Coco (2017)',\n",
       " 'O Cavaleiro das Trevas Renasce (2012)',\n",
       " 'Aliens - O Recontro Final (1986)',\n",
       " 'Era Uma Vez na América (1984)',\n",
       " 'Vingadores: Endgame (2019)',\n",
       " 'Cafarnaum (2018)',\n",
       " 'A Odisseia do Submarino 96 (1981)',\n",
       " 'Tengoku to jigoku (1963)',\n",
       " '3 Idiots (2009)',\n",
       " 'Toy Story: Os Rivais (1995)',\n",
       " 'Amadeus (1984)',\n",
       " 'Beleza Americana (1999)',\n",
       " 'Braveheart: O Desafio do Guerreiro (1995)',\n",
       " 'Sacanas Sem Lei (2009)',\n",
       " 'O Bom Rebelde (1997)',\n",
       " 'Hamilton (2020)',\n",
       " 'Vem e Vê (1985)',\n",
       " 'Star Wars: Episódio VI - O Regresso de Jedi (1983)',\n",
       " '2001: Odisseia no Espaço (1968)',\n",
       " 'Taare Zameen Par (2007)',\n",
       " 'Cães Danados (1992)',\n",
       " 'A Mulher Que Viveu Duas Vezes (1958)',\n",
       " 'Matou (1931)',\n",
       " 'The Hunt - A Caça (2012)',\n",
       " 'O Mundo a Seus Pés (1941)',\n",
       " 'A Vida não é um Sonho (2000)',\n",
       " 'Serenata à Chuva (1952)',\n",
       " 'Intriga Internacional (1959)',\n",
       " 'Viver - Ikiru (1952)',\n",
       " 'O Despertar da Mente (2004)',\n",
       " 'Ladrões de Bicicletas (1948)',\n",
       " 'Lawrence da Arábia (1962)',\n",
       " 'O Garoto de Charlot (1921)',\n",
       " 'Nascido Para Matar (1987)',\n",
       " 'Incendies - A Mulher que Canta (2010)',\n",
       " 'Dangal (2016)',\n",
       " 'O Apartamento (1960)',\n",
       " 'Pagos a Dobrar (1944)',\n",
       " 'Metropolis (1927)',\n",
       " 'Laranja Mecânica (1971)',\n",
       " 'Taxi Driver (1976)',\n",
       " 'O Pai (2020)',\n",
       " 'A Golpada (1973)',\n",
       " 'Uma Separação (2011)',\n",
       " 'Scarface - A Força do Poder (1983)',\n",
       " 'Snatch - Porcos E Diamantes (2000)',\n",
       " '1917 (2019)',\n",
       " 'O Fabuloso Destino de Amélie (2001)',\n",
       " 'Na Sombra e no Silêncio (1962)',\n",
       " 'Toy Story 3 (2010)',\n",
       " 'Por Mais Alguns Dólares (1965)',\n",
       " 'Up - Altamente (2009)',\n",
       " 'O Lamento da Vereda (1955)',\n",
       " 'Indiana Jones e a Grande Cruzada (1989)',\n",
       " 'Heat - Cidade Sob Pressão (1995)',\n",
       " 'Confidencial (1997)',\n",
       " 'Ran - Os Senhores da Guerra (1985)',\n",
       " 'Die Hard - Assalto ao Arranha-Céus (1988)',\n",
       " 'Yojimbo - O Invencível (1961)',\n",
       " 'Green Book - Um Guia Para a Vida (2018)',\n",
       " 'Às Portas do Inferno (1950)',\n",
       " 'A Queda: Hitler e o Fim do Terceiro Reich (2004)',\n",
       " 'Eva (1950)',\n",
       " 'Monty Python e o Cálice Sagrado (1975)',\n",
       " 'Quanto Mais Quente Melhor (1959)',\n",
       " 'Batman - O Início (2005)',\n",
       " 'Jai Bhim (2021)',\n",
       " 'Imperdoável (1992)',\n",
       " 'Bacheha-Ye aseman (1997)',\n",
       " 'O Castelo Andante (2004)',\n",
       " 'O Lobo de Wall Street (2013)',\n",
       " 'O Julgamento de Nuremberga (1961)',\n",
       " 'Haverá Sangue (2007)',\n",
       " 'Casino (1995)',\n",
       " 'A Grande Evasão (1963)',\n",
       " 'O Tesouro da Sierra Madre (1948)',\n",
       " 'O Labirinto do Fauno (2006)',\n",
       " 'Uma Mente Brilhante (2001)',\n",
       " 'O Segredo dos Seus Olhos (2009)',\n",
       " 'O Touro Enraivecido (1980)',\n",
       " 'Chinatown (1974)',\n",
       " 'O Meu Vizinho Totoro (1988)',\n",
       " 'Shutter Island (2010)',\n",
       " 'Um Mal Nunca Vem Só (1998)',\n",
       " 'Este País Não É Para Velhos (2007)',\n",
       " 'Klaus (2019)',\n",
       " 'Chamada para a Morte (1954)',\n",
       " 'Veio do Outro Mundo (1982)',\n",
       " 'A Quimera do Ouro (1925)',\n",
       " 'Três Cartazes à Beira da Estrada (2017)',\n",
       " 'O Sétimo Selo (1957)',\n",
       " 'O Homem Elefante (1980)',\n",
       " 'O Sexto Sentido (1999)',\n",
       " 'Dersu Uzala - A Águia da Estepe (1975)',\n",
       " 'Parque Jurássico (1993)',\n",
       " 'The Truman Show - A Vida em Directo (1998)',\n",
       " 'Morangos Silvestres (1957)',\n",
       " 'O Terceiro Homem (1949)',\n",
       " 'Memórias de Um Assassino (2003)',\n",
       " 'V de Vingança (2005)',\n",
       " 'Blade Runner - Perigo Iminente (1982)',\n",
       " 'Trainspotting (1996)',\n",
       " 'Fargo (1996)',\n",
       " 'A Ponte do Rio Kwai (1957)',\n",
       " 'Divertida-Mente (2015)',\n",
       " 'À Procura de Nemo (2003)',\n",
       " '1) (2003)',\n",
       " 'Warrior - Combate Entre Irmãos (2011)',\n",
       " 'E Tudo o Vento Levou (1939)',\n",
       " 'Viagem a Tóquio (1953)',\n",
       " 'Há Lodo no Cais (1954)',\n",
       " 'Babam ve Oglum (2005)',\n",
       " 'Raptadas (2013)',\n",
       " 'Relatos Selvagens (2014)',\n",
       " 'Grand Budapest Hotel (2014)',\n",
       " 'Stalker (1979)',\n",
       " 'O Caçador (1978)',\n",
       " 'Pamplinas Maquinista (1926)',\n",
       " 'Gran Torino (2008)',\n",
       " 'A Máscara (1966)',\n",
       " '(1924)',\n",
       " 'Antes do Amanhecer (1995)',\n",
       " '(2009)',\n",
       " 'Apanha-me Se Puderes (2002)',\n",
       " 'Peço a Palavra (1939)',\n",
       " 'Barry Lyndon (1975)',\n",
       " 'Em Nome do Pai (1993)',\n",
       " 'O Herói de Hacksaw Ridge (2016)',\n",
       " 'Em Parte Incerta (2014)',\n",
       " 'Quarto (2015)',\n",
       " 'Z - A Orgia do Poder (1969)',\n",
       " 'Dune - Duna (2021)',\n",
       " 'Andhadhun (2018)',\n",
       " \"A Paixão de Joana d'Arc (1928)\",\n",
       " \"Le Mans '66: O Duelo (2019)\",\n",
       " '12 Anos Escravo (2013)',\n",
       " 'Ser ou Não Ser (1942)',\n",
       " 'O Grande Lebowski (1998)',\n",
       " 'O Clube dos Poetas Mortos (1989)',\n",
       " 'Harry Potter e os Talismãs da Morte: Parte 2 (2011)',\n",
       " 'Ben-Hur (1959)',\n",
       " 'Como Treinares o Teu Dragão (2010)',\n",
       " 'Mad Max: A Estrada da Morte (2015)',\n",
       " 'Sonata de Outono (1978)',\n",
       " 'Million Dollar Baby - Sonhos Vencidos (2004)',\n",
       " 'O Salário do Medo (1953)',\n",
       " 'Conta Comigo (1986)',\n",
       " 'Escândalo na TV (1976)',\n",
       " 'A Criada (2016)',\n",
       " 'Logan (2017)',\n",
       " 'Gangs of Wasseypur (2012)',\n",
       " 'O Ódio (1995)',\n",
       " 'Koe no katachi (2016)',\n",
       " 'O Presidiário (1967)',\n",
       " 'Hachiko - Amigo para Sempre (2009)',\n",
       " 'Os quatrocentos Golpes (1959)',\n",
       " 'Platoon - Os Bravos do Pelotão (1986)',\n",
       " 'O Caso Spotlight (2015)',\n",
       " 'Monstros e Companhia (2001)',\n",
       " 'Rebecca (1940)',\n",
       " 'A Vida de Brian (1979)',\n",
       " 'O Bandido (1996)',\n",
       " 'Disponível Para Amar (2000)',\n",
       " 'Hotel Ruanda (2004)',\n",
       " 'Rush - Duelo de Rivais (2013)',\n",
       " 'Rocky (1976)',\n",
       " 'Amor Cão (2000)',\n",
       " 'O Lado Selvagem (2007)',\n",
       " 'Nausicaä do Vale do Vento (1984)',\n",
       " 'Demon Slayer - Kimetsu no Yaiba - O Filme: Comboio Infinito (2020)',\n",
       " 'Antes do Anoitecer (2004)',\n",
       " 'Drishyam (2013)',\n",
       " 'Uma Noite Aconteceu (1934)',\n",
       " 'Milagre na Cela 7 (2019)',\n",
       " 'A Batalha de Argel (1966)',\n",
       " 'Hera Pheri (2000)',\n",
       " 'Fanny e Alexandre (1982)',\n",
       " '96 (2018)',\n",
       " 'Andrei Rublev (1966)']"
      ]
     },
     "execution_count": 23,
     "metadata": {},
     "output_type": "execute_result"
    }
   ],
   "source": [
    "# find movies name and years\n",
    "movies = soup.find_all('td', attrs= {'class': 'titleColumn'})\n",
    "movie = [movie.get_text().split('.').pop().strip().replace('\\n',' ') for movie in movies]\n",
    "movie"
   ]
  },
  {
   "cell_type": "code",
   "execution_count": 23,
   "metadata": {},
   "outputs": [],
   "source": [
    "# find director\n",
    "director = [movies[i].a['title'].split('(dir.)')[0].strip() for i in range(len(movies))]"
   ]
  },
  {
   "cell_type": "code",
   "execution_count": 24,
   "metadata": {},
   "outputs": [],
   "source": [
    "# find stars value\n",
    "stars = soup.find_all('td', attrs= {'class': 'ratingColumn imdbRating'})\n",
    "star = [stars[i].strong['title'].split('based')[0].strip() for i in range(len(stars))]"
   ]
  },
  {
   "cell_type": "code",
   "execution_count": 25,
   "metadata": {},
   "outputs": [
    {
     "data": {
      "text/html": [
       "<div>\n",
       "<style scoped>\n",
       "    .dataframe tbody tr th:only-of-type {\n",
       "        vertical-align: middle;\n",
       "    }\n",
       "\n",
       "    .dataframe tbody tr th {\n",
       "        vertical-align: top;\n",
       "    }\n",
       "\n",
       "    .dataframe thead th {\n",
       "        text-align: right;\n",
       "    }\n",
       "</style>\n",
       "<table border=\"1\" class=\"dataframe\">\n",
       "  <thead>\n",
       "    <tr style=\"text-align: right;\">\n",
       "      <th></th>\n",
       "      <th>Movie Name</th>\n",
       "      <th>Director</th>\n",
       "      <th>Stars</th>\n",
       "    </tr>\n",
       "  </thead>\n",
       "  <tbody>\n",
       "    <tr>\n",
       "      <th>0</th>\n",
       "      <td>Os Condenados de Shawshank (1994)</td>\n",
       "      <td>Frank Darabont</td>\n",
       "      <td>9.2</td>\n",
       "    </tr>\n",
       "    <tr>\n",
       "      <th>1</th>\n",
       "      <td>O Padrinho (1972)</td>\n",
       "      <td>Francis Ford Coppola</td>\n",
       "      <td>9.1</td>\n",
       "    </tr>\n",
       "    <tr>\n",
       "      <th>2</th>\n",
       "      <td>O Padrinho: Parte II (1974)</td>\n",
       "      <td>Francis Ford Coppola</td>\n",
       "      <td>9.0</td>\n",
       "    </tr>\n",
       "    <tr>\n",
       "      <th>3</th>\n",
       "      <td>O Cavaleiro das Trevas (2008)</td>\n",
       "      <td>Christopher Nolan</td>\n",
       "      <td>9.0</td>\n",
       "    </tr>\n",
       "    <tr>\n",
       "      <th>4</th>\n",
       "      <td>Doze Homens em Fúria (1957)</td>\n",
       "      <td>Sidney Lumet</td>\n",
       "      <td>8.9</td>\n",
       "    </tr>\n",
       "    <tr>\n",
       "      <th>...</th>\n",
       "      <td>...</td>\n",
       "      <td>...</td>\n",
       "      <td>...</td>\n",
       "    </tr>\n",
       "    <tr>\n",
       "      <th>245</th>\n",
       "      <td>A Batalha de Argel (1966)</td>\n",
       "      <td>Gillo Pontecorvo</td>\n",
       "      <td>8.0</td>\n",
       "    </tr>\n",
       "    <tr>\n",
       "      <th>246</th>\n",
       "      <td>Fanny e Alexandre (1982)</td>\n",
       "      <td>Ingmar Bergman</td>\n",
       "      <td>8.0</td>\n",
       "    </tr>\n",
       "    <tr>\n",
       "      <th>247</th>\n",
       "      <td>Saudar os Bravos (2020)</td>\n",
       "      <td>Sudha Kongara</td>\n",
       "      <td>8.0</td>\n",
       "    </tr>\n",
       "    <tr>\n",
       "      <th>248</th>\n",
       "      <td>As Noites de Cabíria (1957)</td>\n",
       "      <td>Federico Fellini</td>\n",
       "      <td>8.0</td>\n",
       "    </tr>\n",
       "    <tr>\n",
       "      <th>249</th>\n",
       "      <td>Andrei Rublev (1966)</td>\n",
       "      <td>Andrei Tarkovsky</td>\n",
       "      <td>8.0</td>\n",
       "    </tr>\n",
       "  </tbody>\n",
       "</table>\n",
       "<p>250 rows × 3 columns</p>\n",
       "</div>"
      ],
      "text/plain": [
       "                            Movie Name              Director Stars\n",
       "0    Os Condenados de Shawshank (1994)        Frank Darabont   9.2\n",
       "1                    O Padrinho (1972)  Francis Ford Coppola   9.1\n",
       "2          O Padrinho: Parte II (1974)  Francis Ford Coppola   9.0\n",
       "3        O Cavaleiro das Trevas (2008)     Christopher Nolan   9.0\n",
       "4          Doze Homens em Fúria (1957)          Sidney Lumet   8.9\n",
       "..                                 ...                   ...   ...\n",
       "245          A Batalha de Argel (1966)      Gillo Pontecorvo   8.0\n",
       "246           Fanny e Alexandre (1982)        Ingmar Bergman   8.0\n",
       "247            Saudar os Bravos (2020)         Sudha Kongara   8.0\n",
       "248        As Noites de Cabíria (1957)      Federico Fellini   8.0\n",
       "249               Andrei Rublev (1966)      Andrei Tarkovsky   8.0\n",
       "\n",
       "[250 rows x 3 columns]"
      ]
     },
     "execution_count": 25,
     "metadata": {},
     "output_type": "execute_result"
    }
   ],
   "source": [
    "# put it all together\n",
    "zipped = zip(movie,director,star)\n",
    "zipped_list = list(zipped)\n",
    "top100 = pd.DataFrame(zipped_list, columns=['Movie Name', 'Director', 'Stars'])\n",
    "top100"
   ]
  },
  {
   "cell_type": "markdown",
   "metadata": {},
   "source": [
    "#### 3.1. Display the movie name, year and a brief summary of the top 10 random movies (IMDB) as a pandas dataframe."
   ]
  },
  {
   "cell_type": "code",
   "execution_count": 26,
   "metadata": {},
   "outputs": [
    {
     "data": {
      "text/plain": [
       "<Response [200]>"
      ]
     },
     "execution_count": 26,
     "metadata": {},
     "output_type": "execute_result"
    }
   ],
   "source": [
    "#This is the url you will scrape in this exercise\n",
    "url = 'https://www.imdb.com/list/ls009796553/'\n",
    "response = requests.get(url)\n",
    "response"
   ]
  },
  {
   "cell_type": "code",
   "execution_count": 27,
   "metadata": {},
   "outputs": [],
   "source": [
    "soup = BeautifulSoup(response.content)"
   ]
  },
  {
   "cell_type": "code",
   "execution_count": 28,
   "metadata": {},
   "outputs": [
    {
     "data": {
      "text/plain": [
       "['Pesadelo em Elm Street (1984)',\n",
       " 'Despertares (1990)',\n",
       " 'Liga de Mulheres (1992)',\n",
       " 'Um Bairro em Nova Iorque (1993)',\n",
       " 'Anjos em Campo (1994)']"
      ]
     },
     "execution_count": 28,
     "metadata": {},
     "output_type": "execute_result"
    }
   ],
   "source": [
    "# find movie names and years\n",
    "movies = soup.find_all('h3', attrs= {'class': 'lister-item-header'})\n",
    "movie = [movie.get_text().split('.').pop().replace('\\n', ' ').strip() for movie in movies]\n",
    "movie[:5]"
   ]
  },
  {
   "cell_type": "code",
   "execution_count": 29,
   "metadata": {},
   "outputs": [
    {
     "data": {
      "text/plain": [
       "['Teenager Nancy Thompson must uncover the dark truth concealed by her parents after she and her friends become targets of the spirit of a serial killer with a bladed glove in their dreams, in which if they die, it kills them in real life.',\n",
       " 'The victims of an encephalitis epidemic many years ago have been catatonic ever since, but now a new drug offers the prospect of reviving them.',\n",
       " 'Two sisters join the first female professional baseball league and struggle to help it succeed amidst their own growing rivalry.',\n",
       " 'A father becomes worried when a local gangster befriends his son in the Bronx in the 1960s.',\n",
       " 'When a boy prays for a chance to have a family if the California Angels win the pennant, angels are assigned to make that possible.']"
      ]
     },
     "execution_count": 29,
     "metadata": {},
     "output_type": "execute_result"
    }
   ],
   "source": [
    "# find summary of each movies\n",
    "summary = soup.find_all('div', attrs= {'class': 'lister-item-content'})\n",
    "\n",
    "summ = [summ.find_all('p', attrs={'class': ''}) for summ in summary]\n",
    "brief_summ = [brief_summ[0].text.strip() for brief_summ in summ]\n",
    "brief_summ[:5]"
   ]
  },
  {
   "cell_type": "code",
   "execution_count": 30,
   "metadata": {},
   "outputs": [
    {
     "data": {
      "text/html": [
       "<div>\n",
       "<style scoped>\n",
       "    .dataframe tbody tr th:only-of-type {\n",
       "        vertical-align: middle;\n",
       "    }\n",
       "\n",
       "    .dataframe tbody tr th {\n",
       "        vertical-align: top;\n",
       "    }\n",
       "\n",
       "    .dataframe thead th {\n",
       "        text-align: right;\n",
       "    }\n",
       "</style>\n",
       "<table border=\"1\" class=\"dataframe\">\n",
       "  <thead>\n",
       "    <tr style=\"text-align: right;\">\n",
       "      <th></th>\n",
       "      <th>summary</th>\n",
       "    </tr>\n",
       "  </thead>\n",
       "  <tbody>\n",
       "    <tr>\n",
       "      <th>Pesadelo em Elm Street (1984)</th>\n",
       "      <td>Teenager Nancy Thompson must uncover the dark ...</td>\n",
       "    </tr>\n",
       "    <tr>\n",
       "      <th>Despertares (1990)</th>\n",
       "      <td>The victims of an encephalitis epidemic many y...</td>\n",
       "    </tr>\n",
       "    <tr>\n",
       "      <th>Liga de Mulheres (1992)</th>\n",
       "      <td>Two sisters join the first female professional...</td>\n",
       "    </tr>\n",
       "    <tr>\n",
       "      <th>Um Bairro em Nova Iorque (1993)</th>\n",
       "      <td>A father becomes worried when a local gangster...</td>\n",
       "    </tr>\n",
       "    <tr>\n",
       "      <th>Anjos em Campo (1994)</th>\n",
       "      <td>When a boy prays for a chance to have a family...</td>\n",
       "    </tr>\n",
       "    <tr>\n",
       "      <th>...</th>\n",
       "      <td>...</td>\n",
       "    </tr>\n",
       "    <tr>\n",
       "      <th>Burning Palms (2010)</th>\n",
       "      <td>A subversive tale that interlaces five stories...</td>\n",
       "    </tr>\n",
       "    <tr>\n",
       "      <th>Professora Baldas (2011)</th>\n",
       "      <td>A lazy, incompetent middle school teacher who ...</td>\n",
       "    </tr>\n",
       "    <tr>\n",
       "      <th>A Melhor Despedida de Solteira (I) (2011)</th>\n",
       "      <td>Competition between the maid of honor and a br...</td>\n",
       "    </tr>\n",
       "    <tr>\n",
       "      <th>Chucky, o Boneco Diabólico (1988)</th>\n",
       "      <td>A single mother gives her son a much sought-af...</td>\n",
       "    </tr>\n",
       "    <tr>\n",
       "      <th>Ama (1990)</th>\n",
       "      <td>In 1950s Baltimore, a bad boy with a heart of ...</td>\n",
       "    </tr>\n",
       "  </tbody>\n",
       "</table>\n",
       "<p>100 rows × 1 columns</p>\n",
       "</div>"
      ],
      "text/plain": [
       "                                                                                     summary\n",
       "Pesadelo em Elm Street (1984)              Teenager Nancy Thompson must uncover the dark ...\n",
       "Despertares (1990)                         The victims of an encephalitis epidemic many y...\n",
       "Liga de Mulheres (1992)                    Two sisters join the first female professional...\n",
       "Um Bairro em Nova Iorque (1993)            A father becomes worried when a local gangster...\n",
       "Anjos em Campo (1994)                      When a boy prays for a chance to have a family...\n",
       "...                                                                                      ...\n",
       "Burning Palms (2010)                       A subversive tale that interlaces five stories...\n",
       "Professora Baldas (2011)                   A lazy, incompetent middle school teacher who ...\n",
       "A Melhor Despedida de Solteira (I) (2011)  Competition between the maid of honor and a br...\n",
       "Chucky, o Boneco Diabólico (1988)          A single mother gives her son a much sought-af...\n",
       "Ama (1990)                                 In 1950s Baltimore, a bad boy with a heart of ...\n",
       "\n",
       "[100 rows x 1 columns]"
      ]
     },
     "execution_count": 30,
     "metadata": {},
     "output_type": "execute_result"
    }
   ],
   "source": [
    "# put it in dictionary \n",
    "dictionary = {k:v for k,v in zip(movie,brief_summ)}\n",
    "movies_summ = pd.DataFrame.from_dict(dictionary, orient= 'index', columns=['summary'])\n",
    "movies_summ"
   ]
  },
  {
   "cell_type": "markdown",
   "metadata": {},
   "source": [
    "## Bonus"
   ]
  },
  {
   "cell_type": "markdown",
   "metadata": {},
   "source": [
    "#### Find the live weather report (temperature, wind speed, description and weather) of a given city."
   ]
  },
  {
   "cell_type": "code",
   "execution_count": 31,
   "metadata": {},
   "outputs": [],
   "source": [
    "#https://openweathermap.org/current\n",
    "city = input('Enter the city: ')\n",
    "url = 'http://api.openweathermap.org/data/2.5/weather?'+'q='+city+'&APPID=b35975e18dc93725acb092f7272cc6b8&units=metric'"
   ]
  },
  {
   "cell_type": "code",
   "execution_count": 32,
   "metadata": {},
   "outputs": [],
   "source": [
    "# your code here"
   ]
  },
  {
   "cell_type": "markdown",
   "metadata": {},
   "source": [
    "#### Find the book name, price and stock availability as a pandas dataframe."
   ]
  },
  {
   "cell_type": "code",
   "execution_count": 33,
   "metadata": {},
   "outputs": [],
   "source": [
    "# This is the url you will scrape in this exercise. \n",
    "# It is a fictional bookstore created to be scraped. \n",
    "url = 'http://books.toscrape.com/'"
   ]
  },
  {
   "cell_type": "code",
   "execution_count": 34,
   "metadata": {},
   "outputs": [],
   "source": [
    "# your code here"
   ]
  },
  {
   "cell_type": "markdown",
   "metadata": {},
   "source": [
    "####  Display the 100 latest earthquakes info (date, time, latitude, longitude and region name) by the EMSC as a pandas dataframe.\n",
    "***Hint:*** Here the displayed number of earthquakes per page is 20, but you can easily move to the next page by looping through the desired number of pages and adding it to the end of the url."
   ]
  },
  {
   "cell_type": "code",
   "execution_count": 35,
   "metadata": {},
   "outputs": [
    {
     "data": {
      "text/plain": [
       "['https://www.emsc-csem.org/Earthquake/?view=1',\n",
       " 'https://www.emsc-csem.org/Earthquake/?view=2',\n",
       " 'https://www.emsc-csem.org/Earthquake/?view=3',\n",
       " 'https://www.emsc-csem.org/Earthquake/?view=4',\n",
       " 'https://www.emsc-csem.org/Earthquake/?view=5']"
      ]
     },
     "execution_count": 35,
     "metadata": {},
     "output_type": "execute_result"
    }
   ],
   "source": [
    "# This is the url you will scrape in this exercise\n",
    "url = 'https://www.emsc-csem.org/Earthquake/?view='\n",
    "\n",
    "# This is how you will loop through each page:\n",
    "number_of_pages = int(100/20)\n",
    "each_page_urls = []\n",
    "\n",
    "for n in range(1, number_of_pages+1):\n",
    "    link = url+str(n)\n",
    "    each_page_urls.append(link)\n",
    "    \n",
    "each_page_urls"
   ]
  },
  {
   "cell_type": "code",
   "execution_count": 36,
   "metadata": {},
   "outputs": [],
   "source": [
    "# your code here"
   ]
  }
 ],
 "metadata": {
  "kernelspec": {
   "display_name": "Python 3",
   "language": "python",
   "name": "python3"
  },
  "language_info": {
   "codemirror_mode": {
    "name": "ipython",
    "version": 3
   },
   "file_extension": ".py",
   "mimetype": "text/x-python",
   "name": "python",
   "nbconvert_exporter": "python",
   "pygments_lexer": "ipython3",
   "version": "3.9.7"
  }
 },
 "nbformat": 4,
 "nbformat_minor": 2
}
